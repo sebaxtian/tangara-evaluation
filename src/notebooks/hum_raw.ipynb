{
 "cells": [
  {
   "cell_type": "code",
   "execution_count": 1,
   "metadata": {
    "execution": {
     "iopub.execute_input": "2023-12-15T23:35:31.602036Z",
     "iopub.status.busy": "2023-12-15T23:35:31.601003Z",
     "iopub.status.idle": "2023-12-15T23:35:34.112909Z",
     "shell.execute_reply": "2023-12-15T23:35:34.111616Z"
    }
   },
   "outputs": [
    {
     "name": "stdout",
     "output_type": "stream",
     "text": [
      "PM2.5: 35.9, AQI: 102\n",
      "PM2.5: 35.9, Measure Level: MeasureLevels.UNHEALTHY_FOR_SENSITIVE_GROUPS, Range Values: Min: 35.5, Max: 55.4\n",
      "AQI: 102, Measure Level: MeasureLevels.UNHEALTHY_FOR_SENSITIVE_GROUPS, Range Values: Min: 101, Max: 150\n"
     ]
    }
   ],
   "source": [
    "import os\n",
    "import math\n",
    "from dotenv import load_dotenv\n",
    "\n",
    "# Explicitly providing path to '.env'\n",
    "from pathlib import Path  # Python 3.6+ only\n",
    "# Load .env variables\n",
    "_ = load_dotenv(dotenv_path=f\"{Path().resolve().parents[1]}/src/.env\")\n",
    "\n",
    "# with the new api\n",
    "from importnb import imports\n",
    "with imports(\"ipynb\"):\n",
    "    from utils import to_timestamp, df_data_sensors, missing_data, correlation_data, df_to_csv, df_from_csv"
   ]
  },
  {
   "cell_type": "markdown",
   "metadata": {},
   "source": [
    "## Humidity Raw Data"
   ]
  },
  {
   "cell_type": "code",
   "execution_count": 2,
   "metadata": {
    "execution": {
     "iopub.execute_input": "2023-12-15T23:35:34.189799Z",
     "iopub.status.busy": "2023-12-15T23:35:34.189280Z",
     "iopub.status.idle": "2023-12-15T23:35:34.218452Z",
     "shell.execute_reply": "2023-12-15T23:35:34.217292Z"
    }
   },
   "outputs": [
    {
     "name": "stderr",
     "output_type": "stream",
     "text": [
      "\u001b[32m2023-12-15 15:35:34.197\u001b[0m | \u001b[34m\u001b[1mDEBUG   \u001b[0m | \u001b[36mutils\u001b[0m:\u001b[36mdf_from_csv\u001b[0m:\u001b[36m340\u001b[0m - \u001b[34m\u001b[1mLoad DataFrame: /home/sebaxtian/Workspaces/Tangara/tangara-evaluation/src/data/0_raw/tangaras.csv\u001b[0m\n"
     ]
    },
    {
     "name": "stdout",
     "output_type": "stream",
     "text": [
      "Total Tangara Sensors: 22\n"
     ]
    },
    {
     "data": {
      "text/html": [
       "<div>\n",
       "<style scoped>\n",
       "    .dataframe tbody tr th:only-of-type {\n",
       "        vertical-align: middle;\n",
       "    }\n",
       "\n",
       "    .dataframe tbody tr th {\n",
       "        vertical-align: top;\n",
       "    }\n",
       "\n",
       "    .dataframe thead th {\n",
       "        text-align: right;\n",
       "    }\n",
       "</style>\n",
       "<table border=\"1\" class=\"dataframe\">\n",
       "  <thead>\n",
       "    <tr style=\"text-align: right;\">\n",
       "      <th></th>\n",
       "      <th>ID</th>\n",
       "      <th>GEOHASH</th>\n",
       "      <th>MAC</th>\n",
       "      <th>GEOLOCATION</th>\n",
       "      <th>LATITUDE</th>\n",
       "      <th>LONGITUDE</th>\n",
       "    </tr>\n",
       "  </thead>\n",
       "  <tbody>\n",
       "    <tr>\n",
       "      <th>0</th>\n",
       "      <td>TANGARA_25CE</td>\n",
       "      <td>d29e4r0</td>\n",
       "      <td>D29ESP32DE125CE</td>\n",
       "      <td>3.3789825439453125 -76.54106140136719</td>\n",
       "      <td>3.378983</td>\n",
       "      <td>-76.541061</td>\n",
       "    </tr>\n",
       "    <tr>\n",
       "      <th>1</th>\n",
       "      <td>TANGARA_260A</td>\n",
       "      <td>d29edyj</td>\n",
       "      <td>D29ESP32DE1260A</td>\n",
       "      <td>3.4613800048828125 -76.51222229003906</td>\n",
       "      <td>3.461380</td>\n",
       "      <td>-76.512222</td>\n",
       "    </tr>\n",
       "    <tr>\n",
       "      <th>2</th>\n",
       "      <td>TANGARA_2BDE</td>\n",
       "      <td>d29e6de</td>\n",
       "      <td>D29ESP32DE52BDE</td>\n",
       "      <td>3.3982086181640625 -76.52595520019531</td>\n",
       "      <td>3.398209</td>\n",
       "      <td>-76.525955</td>\n",
       "    </tr>\n",
       "    <tr>\n",
       "      <th>3</th>\n",
       "      <td>TANGARA_39D6</td>\n",
       "      <td>d29e6de</td>\n",
       "      <td>D29ESP32DE539D6</td>\n",
       "      <td>3.3982086181640625 -76.52595520019531</td>\n",
       "      <td>3.398209</td>\n",
       "      <td>-76.525955</td>\n",
       "    </tr>\n",
       "    <tr>\n",
       "      <th>4</th>\n",
       "      <td>TANGARA_3B7E</td>\n",
       "      <td>d29e6de</td>\n",
       "      <td>D29ESP32DE53B7E</td>\n",
       "      <td>3.3982086181640625 -76.52595520019531</td>\n",
       "      <td>3.398209</td>\n",
       "      <td>-76.525955</td>\n",
       "    </tr>\n",
       "  </tbody>\n",
       "</table>\n",
       "</div>"
      ],
      "text/plain": [
       "             ID  GEOHASH              MAC  \\\n",
       "0  TANGARA_25CE  d29e4r0  D29ESP32DE125CE   \n",
       "1  TANGARA_260A  d29edyj  D29ESP32DE1260A   \n",
       "2  TANGARA_2BDE  d29e6de  D29ESP32DE52BDE   \n",
       "3  TANGARA_39D6  d29e6de  D29ESP32DE539D6   \n",
       "4  TANGARA_3B7E  d29e6de  D29ESP32DE53B7E   \n",
       "\n",
       "                             GEOLOCATION  LATITUDE  LONGITUDE  \n",
       "0  3.3789825439453125 -76.54106140136719  3.378983 -76.541061  \n",
       "1  3.4613800048828125 -76.51222229003906  3.461380 -76.512222  \n",
       "2  3.3982086181640625 -76.52595520019531  3.398209 -76.525955  \n",
       "3  3.3982086181640625 -76.52595520019531  3.398209 -76.525955  \n",
       "4  3.3982086181640625 -76.52595520019531  3.398209 -76.525955  "
      ]
     },
     "execution_count": 2,
     "metadata": {},
     "output_type": "execute_result"
    }
   ],
   "source": [
    "# Load Tangaras\n",
    "df_tangaras = df_from_csv(\"tangaras.csv\", dtindex=False)\n",
    "\n",
    "print(f\"Total Tangara Sensors: {len(df_tangaras)}\")\n",
    "\n",
    "df_tangaras.head()"
   ]
  },
  {
   "cell_type": "code",
   "execution_count": 3,
   "metadata": {
    "execution": {
     "iopub.execute_input": "2023-12-15T23:35:34.222326Z",
     "iopub.status.busy": "2023-12-15T23:35:34.222002Z",
     "iopub.status.idle": "2023-12-15T23:35:34.238931Z",
     "shell.execute_reply": "2023-12-15T23:35:34.238043Z"
    }
   },
   "outputs": [
    {
     "name": "stdout",
     "output_type": "stream",
     "text": [
      "Tangara Sensor Reference: TANGARA_5636\n",
      "Tangara Sensors Target: TANGARA_39D6,TANGARA_2BDE,TANGARA_3B7E,TANGARA_3BEA,TANGARA_421A,TANGARA_422A,TANGARA_5636,TANGARA_D282\n",
      "Total Tangara Sensors: 8\n"
     ]
    },
    {
     "data": {
      "text/html": [
       "<div>\n",
       "<style scoped>\n",
       "    .dataframe tbody tr th:only-of-type {\n",
       "        vertical-align: middle;\n",
       "    }\n",
       "\n",
       "    .dataframe tbody tr th {\n",
       "        vertical-align: top;\n",
       "    }\n",
       "\n",
       "    .dataframe thead th {\n",
       "        text-align: right;\n",
       "    }\n",
       "</style>\n",
       "<table border=\"1\" class=\"dataframe\">\n",
       "  <thead>\n",
       "    <tr style=\"text-align: right;\">\n",
       "      <th></th>\n",
       "      <th>ID</th>\n",
       "      <th>GEOHASH</th>\n",
       "      <th>MAC</th>\n",
       "      <th>GEOLOCATION</th>\n",
       "      <th>LATITUDE</th>\n",
       "      <th>LONGITUDE</th>\n",
       "    </tr>\n",
       "  </thead>\n",
       "  <tbody>\n",
       "    <tr>\n",
       "      <th>2</th>\n",
       "      <td>TANGARA_2BDE</td>\n",
       "      <td>d29e6de</td>\n",
       "      <td>D29ESP32DE52BDE</td>\n",
       "      <td>3.3982086181640625 -76.52595520019531</td>\n",
       "      <td>3.398209</td>\n",
       "      <td>-76.525955</td>\n",
       "    </tr>\n",
       "    <tr>\n",
       "      <th>3</th>\n",
       "      <td>TANGARA_39D6</td>\n",
       "      <td>d29e6de</td>\n",
       "      <td>D29ESP32DE539D6</td>\n",
       "      <td>3.3982086181640625 -76.52595520019531</td>\n",
       "      <td>3.398209</td>\n",
       "      <td>-76.525955</td>\n",
       "    </tr>\n",
       "    <tr>\n",
       "      <th>4</th>\n",
       "      <td>TANGARA_3B7E</td>\n",
       "      <td>d29e6de</td>\n",
       "      <td>D29ESP32DE53B7E</td>\n",
       "      <td>3.3982086181640625 -76.52595520019531</td>\n",
       "      <td>3.398209</td>\n",
       "      <td>-76.525955</td>\n",
       "    </tr>\n",
       "    <tr>\n",
       "      <th>5</th>\n",
       "      <td>TANGARA_3BEA</td>\n",
       "      <td>d29e6de</td>\n",
       "      <td>D29ESP32DE53BEA</td>\n",
       "      <td>3.3982086181640625 -76.52595520019531</td>\n",
       "      <td>3.398209</td>\n",
       "      <td>-76.525955</td>\n",
       "    </tr>\n",
       "    <tr>\n",
       "      <th>6</th>\n",
       "      <td>TANGARA_421A</td>\n",
       "      <td>d29e6de</td>\n",
       "      <td>D29ESP32DE5421A</td>\n",
       "      <td>3.3982086181640625 -76.52595520019531</td>\n",
       "      <td>3.398209</td>\n",
       "      <td>-76.525955</td>\n",
       "    </tr>\n",
       "  </tbody>\n",
       "</table>\n",
       "</div>"
      ],
      "text/plain": [
       "             ID  GEOHASH              MAC  \\\n",
       "2  TANGARA_2BDE  d29e6de  D29ESP32DE52BDE   \n",
       "3  TANGARA_39D6  d29e6de  D29ESP32DE539D6   \n",
       "4  TANGARA_3B7E  d29e6de  D29ESP32DE53B7E   \n",
       "5  TANGARA_3BEA  d29e6de  D29ESP32DE53BEA   \n",
       "6  TANGARA_421A  d29e6de  D29ESP32DE5421A   \n",
       "\n",
       "                             GEOLOCATION  LATITUDE  LONGITUDE  \n",
       "2  3.3982086181640625 -76.52595520019531  3.398209 -76.525955  \n",
       "3  3.3982086181640625 -76.52595520019531  3.398209 -76.525955  \n",
       "4  3.3982086181640625 -76.52595520019531  3.398209 -76.525955  \n",
       "5  3.3982086181640625 -76.52595520019531  3.398209 -76.525955  \n",
       "6  3.3982086181640625 -76.52595520019531  3.398209 -76.525955  "
      ]
     },
     "execution_count": 3,
     "metadata": {},
     "output_type": "execute_result"
    }
   ],
   "source": [
    "# Filter by ID_TANGARA_REFERENCE and IDS_TANGARA_TARGETS\n",
    "\n",
    "# Tangara Sensor Reference\n",
    "ID_TANGARA_REFERENCE=os.getenv(\"ID_TANGARA_REFERENCE\", None)\n",
    "# Tangara Sensors Target\n",
    "IDS_TANGARA_TARGETS=os.getenv(\"IDS_TANGARA_TARGETS\", None)\n",
    "\n",
    "print(f\"Tangara Sensor Reference: {ID_TANGARA_REFERENCE}\")\n",
    "print(f\"Tangara Sensors Target: {IDS_TANGARA_TARGETS}\")\n",
    "\n",
    "ids = IDS_TANGARA_TARGETS.split(',') if IDS_TANGARA_TARGETS else []\n",
    "ids.append(ID_TANGARA_REFERENCE)\n",
    "\n",
    "df_tangaras = df_tangaras[df_tangaras['ID'].isin(ids)]\n",
    "\n",
    "print(f\"Total Tangara Sensors: {len(df_tangaras)}\")\n",
    "\n",
    "df_tangaras.head()"
   ]
  },
  {
   "cell_type": "code",
   "execution_count": 4,
   "metadata": {
    "execution": {
     "iopub.execute_input": "2023-12-15T23:35:34.242795Z",
     "iopub.status.busy": "2023-12-15T23:35:34.242471Z",
     "iopub.status.idle": "2023-12-15T23:35:34.251004Z",
     "shell.execute_reply": "2023-12-15T23:35:34.250231Z"
    }
   },
   "outputs": [
    {
     "name": "stderr",
     "output_type": "stream",
     "text": [
      "\u001b[32m2023-12-15 15:35:34.245\u001b[0m | \u001b[34m\u001b[1mDEBUG   \u001b[0m | \u001b[36mutils\u001b[0m:\u001b[36mto_timestamp\u001b[0m:\u001b[36m99\u001b[0m - \u001b[34m\u001b[1mdatetime_iso8601: 2023-11-26T00:00:00-05:00, Timestamp: 1700974800000\u001b[0m\n",
      "\u001b[32m2023-12-15 15:35:34.246\u001b[0m | \u001b[34m\u001b[1mDEBUG   \u001b[0m | \u001b[36mutils\u001b[0m:\u001b[36mto_timestamp\u001b[0m:\u001b[36m99\u001b[0m - \u001b[34m\u001b[1mdatetime_iso8601: 2023-12-10T23:59:59-05:00, Timestamp: 1702270799000\u001b[0m\n"
     ]
    },
    {
     "name": "stdout",
     "output_type": "stream",
     "text": [
      "Since: 2023-11-26T00:00:00-05:00 -> 1700974800000, Until: 2023-12-10T23:59:59-05:00 -> 1702270799000\n",
      "Group by Time: 30s\n"
     ]
    }
   ],
   "source": [
    "# Start Date Time ISO 8601 Format, TZ='America/Bogota' -05:00\n",
    "START_ISO8601_DATETIME = os.getenv(\"START_ISO8601_DATETIME\", None)\n",
    "start_timestamp = to_timestamp(START_ISO8601_DATETIME)\n",
    "# End Date Time ISO 8601 Format, TZ='America/Bogota' -05:00\n",
    "END_ISO8601_DATETIME = os.getenv(\"END_ISO8601_DATETIME\", None)\n",
    "end_timestamp = to_timestamp(os.getenv(\"END_ISO8601_DATETIME\", None))\n",
    "\n",
    "# GROUP BY TIME\n",
    "GROUP_BY_TIME = os.getenv(\"GROUP_BY_TIME\", None)\n",
    "\n",
    "print(f'Since: {START_ISO8601_DATETIME} -> {start_timestamp}, Until: {END_ISO8601_DATETIME} -> {end_timestamp}')\n",
    "print(f\"Group by Time: {GROUP_BY_TIME}\")"
   ]
  },
  {
   "cell_type": "code",
   "execution_count": 5,
   "metadata": {
    "execution": {
     "iopub.execute_input": "2023-12-15T23:35:34.254551Z",
     "iopub.status.busy": "2023-12-15T23:35:34.254229Z",
     "iopub.status.idle": "2023-12-15T23:35:55.523221Z",
     "shell.execute_reply": "2023-12-15T23:35:55.522617Z"
    }
   },
   "outputs": [
    {
     "name": "stderr",
     "output_type": "stream",
     "text": [
      "\u001b[32m2023-12-15 15:35:34.255\u001b[0m | \u001b[34m\u001b[1mDEBUG   \u001b[0m | \u001b[36mutils\u001b[0m:\u001b[36mquery_measure\u001b[0m:\u001b[36m192\u001b[0m - \u001b[34m\u001b[1msql_query: SELECT last(\"hum\") FROM \"fixed_stations_01\" WHERE (\"name\" = 'D29ESP32DE52BDE') AND time >= 1700974800000ms AND time <= 1702270799000ms GROUP BY time(30s) fill(null); SELECT last(\"hum\") FROM \"fixed_stations_01\" WHERE (\"name\" = 'D29ESP32DE539D6') AND time >= 1700974800000ms AND time <= 1702270799000ms GROUP BY time(30s) fill(null); SELECT last(\"hum\") FROM \"fixed_stations_01\" WHERE (\"name\" = 'D29ESP32DE53B7E') AND time >= 1700974800000ms AND time <= 1702270799000ms GROUP BY time(30s) fill(null); SELECT last(\"hum\") FROM \"fixed_stations_01\" WHERE (\"name\" = 'D29ESP32DE53BEA') AND time >= 1700974800000ms AND time <= 1702270799000ms GROUP BY time(30s) fill(null); SELECT last(\"hum\") FROM \"fixed_stations_01\" WHERE (\"name\" = 'D29ESP32DE5421A') AND time >= 1700974800000ms AND time <= 1702270799000ms GROUP BY time(30s) fill(null); SELECT last(\"hum\") FROM \"fixed_stations_01\" WHERE (\"name\" = 'D29ESP32DE5422A') AND time >= 1700974800000ms AND time <= 1702270799000ms GROUP BY time(30s) fill(null); SELECT last(\"hum\") FROM \"fixed_stations_01\" WHERE (\"name\" = 'D29ESP32DE85636') AND time >= 1700974800000ms AND time <= 1702270799000ms GROUP BY time(30s) fill(null); SELECT last(\"hum\") FROM \"fixed_stations_01\" WHERE (\"name\" = 'D29ESP32DE8D282') AND time >= 1700974800000ms AND time <= 1702270799000ms GROUP BY time(30s) fill(null)\u001b[0m\n",
      "\u001b[32m2023-12-15 15:35:54.657\u001b[0m | \u001b[34m\u001b[1mDEBUG   \u001b[0m | \u001b[36mutils\u001b[0m:\u001b[36mrequest_influxdb\u001b[0m:\u001b[36m131\u001b[0m - \u001b[34m\u001b[1mresponse: <Response [200]>\u001b[0m\n",
      "\u001b[32m2023-12-15 15:35:55.512\u001b[0m | \u001b[34m\u001b[1mDEBUG   \u001b[0m | \u001b[36mutils\u001b[0m:\u001b[36mdf_data_sensors\u001b[0m:\u001b[36m480\u001b[0m - \u001b[34m\u001b[1mMeasure Data Frame Sensors: <class 'pandas.core.frame.DataFrame'>\n",
      "DatetimeIndex: 43200 entries, 2023-11-26 00:00:00-05:00 to 2023-12-10 23:59:30-05:00\n",
      "Freq: 30S\n",
      "Data columns (total 8 columns):\n",
      " #   Column        Non-Null Count  Dtype  \n",
      "---  ------        --------------  -----  \n",
      " 0   TANGARA_2BDE  28045 non-null  float64\n",
      " 1   TANGARA_39D6  25549 non-null  float64\n",
      " 2   TANGARA_3B7E  39888 non-null  float64\n",
      " 3   TANGARA_3BEA  39358 non-null  float64\n",
      " 4   TANGARA_421A  39186 non-null  float64\n",
      " 5   TANGARA_422A  38837 non-null  float64\n",
      " 6   TANGARA_5636  38993 non-null  float64\n",
      " 7   TANGARA_D282  39058 non-null  float64\n",
      "dtypes: float64(8)\n",
      "memory usage: 3.0 MB\n",
      "\u001b[0m\n"
     ]
    },
    {
     "data": {
      "text/html": [
       "<div>\n",
       "<style scoped>\n",
       "    .dataframe tbody tr th:only-of-type {\n",
       "        vertical-align: middle;\n",
       "    }\n",
       "\n",
       "    .dataframe tbody tr th {\n",
       "        vertical-align: top;\n",
       "    }\n",
       "\n",
       "    .dataframe thead th {\n",
       "        text-align: right;\n",
       "    }\n",
       "</style>\n",
       "<table border=\"1\" class=\"dataframe\">\n",
       "  <thead>\n",
       "    <tr style=\"text-align: right;\">\n",
       "      <th></th>\n",
       "      <th>TANGARA_2BDE</th>\n",
       "      <th>TANGARA_39D6</th>\n",
       "      <th>TANGARA_3B7E</th>\n",
       "      <th>TANGARA_3BEA</th>\n",
       "      <th>TANGARA_421A</th>\n",
       "      <th>TANGARA_422A</th>\n",
       "      <th>TANGARA_5636</th>\n",
       "      <th>TANGARA_D282</th>\n",
       "    </tr>\n",
       "    <tr>\n",
       "      <th>DATETIME</th>\n",
       "      <th></th>\n",
       "      <th></th>\n",
       "      <th></th>\n",
       "      <th></th>\n",
       "      <th></th>\n",
       "      <th></th>\n",
       "      <th></th>\n",
       "      <th></th>\n",
       "    </tr>\n",
       "  </thead>\n",
       "  <tbody>\n",
       "    <tr>\n",
       "      <th>2023-11-26 00:00:00-05:00</th>\n",
       "      <td>NaN</td>\n",
       "      <td>NaN</td>\n",
       "      <td>NaN</td>\n",
       "      <td>NaN</td>\n",
       "      <td>NaN</td>\n",
       "      <td>NaN</td>\n",
       "      <td>NaN</td>\n",
       "      <td>NaN</td>\n",
       "    </tr>\n",
       "    <tr>\n",
       "      <th>2023-11-26 00:00:30-05:00</th>\n",
       "      <td>55.85</td>\n",
       "      <td>54.69</td>\n",
       "      <td>51.60</td>\n",
       "      <td>49.27</td>\n",
       "      <td>48.37</td>\n",
       "      <td>NaN</td>\n",
       "      <td>NaN</td>\n",
       "      <td>NaN</td>\n",
       "    </tr>\n",
       "    <tr>\n",
       "      <th>2023-11-26 00:01:00-05:00</th>\n",
       "      <td>56.08</td>\n",
       "      <td>55.08</td>\n",
       "      <td>51.95</td>\n",
       "      <td>49.83</td>\n",
       "      <td>48.79</td>\n",
       "      <td>NaN</td>\n",
       "      <td>NaN</td>\n",
       "      <td>NaN</td>\n",
       "    </tr>\n",
       "    <tr>\n",
       "      <th>2023-11-26 00:01:30-05:00</th>\n",
       "      <td>56.27</td>\n",
       "      <td>55.20</td>\n",
       "      <td>52.10</td>\n",
       "      <td>49.99</td>\n",
       "      <td>48.92</td>\n",
       "      <td>47.22</td>\n",
       "      <td>51.62</td>\n",
       "      <td>52.63</td>\n",
       "    </tr>\n",
       "    <tr>\n",
       "      <th>2023-11-26 00:02:00-05:00</th>\n",
       "      <td>56.42</td>\n",
       "      <td>55.43</td>\n",
       "      <td>52.33</td>\n",
       "      <td>50.20</td>\n",
       "      <td>49.15</td>\n",
       "      <td>47.53</td>\n",
       "      <td>51.86</td>\n",
       "      <td>52.84</td>\n",
       "    </tr>\n",
       "  </tbody>\n",
       "</table>\n",
       "</div>"
      ],
      "text/plain": [
       "                           TANGARA_2BDE  TANGARA_39D6  TANGARA_3B7E  \\\n",
       "DATETIME                                                              \n",
       "2023-11-26 00:00:00-05:00           NaN           NaN           NaN   \n",
       "2023-11-26 00:00:30-05:00         55.85         54.69         51.60   \n",
       "2023-11-26 00:01:00-05:00         56.08         55.08         51.95   \n",
       "2023-11-26 00:01:30-05:00         56.27         55.20         52.10   \n",
       "2023-11-26 00:02:00-05:00         56.42         55.43         52.33   \n",
       "\n",
       "                           TANGARA_3BEA  TANGARA_421A  TANGARA_422A  \\\n",
       "DATETIME                                                              \n",
       "2023-11-26 00:00:00-05:00           NaN           NaN           NaN   \n",
       "2023-11-26 00:00:30-05:00         49.27         48.37           NaN   \n",
       "2023-11-26 00:01:00-05:00         49.83         48.79           NaN   \n",
       "2023-11-26 00:01:30-05:00         49.99         48.92         47.22   \n",
       "2023-11-26 00:02:00-05:00         50.20         49.15         47.53   \n",
       "\n",
       "                           TANGARA_5636  TANGARA_D282  \n",
       "DATETIME                                               \n",
       "2023-11-26 00:00:00-05:00           NaN           NaN  \n",
       "2023-11-26 00:00:30-05:00           NaN           NaN  \n",
       "2023-11-26 00:01:00-05:00           NaN           NaN  \n",
       "2023-11-26 00:01:30-05:00         51.62         52.63  \n",
       "2023-11-26 00:02:00-05:00         51.86         52.84  "
      ]
     },
     "execution_count": 5,
     "metadata": {},
     "output_type": "execute_result"
    }
   ],
   "source": [
    "# Humidity Data Frame Sensors\n",
    "df_hum_raw = df_data_sensors(df_tangaras, start_timestamp, end_timestamp, 'hum', GROUP_BY_TIME)\n",
    "df_hum_raw.head()\n",
    "#df_hum_raw.shape"
   ]
  },
  {
   "cell_type": "markdown",
   "metadata": {},
   "source": [
    "## Descriptive Statistics"
   ]
  },
  {
   "cell_type": "code",
   "execution_count": 6,
   "metadata": {
    "execution": {
     "iopub.execute_input": "2023-12-15T23:35:55.525055Z",
     "iopub.status.busy": "2023-12-15T23:35:55.524893Z",
     "iopub.status.idle": "2023-12-15T23:35:55.550582Z",
     "shell.execute_reply": "2023-12-15T23:35:55.550101Z"
    }
   },
   "outputs": [
    {
     "data": {
      "text/html": [
       "<div>\n",
       "<style scoped>\n",
       "    .dataframe tbody tr th:only-of-type {\n",
       "        vertical-align: middle;\n",
       "    }\n",
       "\n",
       "    .dataframe tbody tr th {\n",
       "        vertical-align: top;\n",
       "    }\n",
       "\n",
       "    .dataframe thead th {\n",
       "        text-align: right;\n",
       "    }\n",
       "</style>\n",
       "<table border=\"1\" class=\"dataframe\">\n",
       "  <thead>\n",
       "    <tr style=\"text-align: right;\">\n",
       "      <th></th>\n",
       "      <th>TANGARA_2BDE</th>\n",
       "      <th>TANGARA_39D6</th>\n",
       "      <th>TANGARA_3B7E</th>\n",
       "      <th>TANGARA_3BEA</th>\n",
       "      <th>TANGARA_421A</th>\n",
       "      <th>TANGARA_422A</th>\n",
       "      <th>TANGARA_5636</th>\n",
       "      <th>TANGARA_D282</th>\n",
       "    </tr>\n",
       "  </thead>\n",
       "  <tbody>\n",
       "    <tr>\n",
       "      <th>count</th>\n",
       "      <td>28045.000000</td>\n",
       "      <td>25549.000000</td>\n",
       "      <td>39888.000000</td>\n",
       "      <td>39358.000000</td>\n",
       "      <td>39186.000000</td>\n",
       "      <td>38837.000000</td>\n",
       "      <td>38993.000000</td>\n",
       "      <td>39058.000000</td>\n",
       "    </tr>\n",
       "    <tr>\n",
       "      <th>mean</th>\n",
       "      <td>50.113499</td>\n",
       "      <td>46.594498</td>\n",
       "      <td>46.447443</td>\n",
       "      <td>45.220562</td>\n",
       "      <td>44.543531</td>\n",
       "      <td>42.787200</td>\n",
       "      <td>45.947322</td>\n",
       "      <td>47.337607</td>\n",
       "    </tr>\n",
       "    <tr>\n",
       "      <th>std</th>\n",
       "      <td>8.270983</td>\n",
       "      <td>8.179410</td>\n",
       "      <td>7.904166</td>\n",
       "      <td>7.922073</td>\n",
       "      <td>8.862698</td>\n",
       "      <td>7.288838</td>\n",
       "      <td>7.654836</td>\n",
       "      <td>8.233174</td>\n",
       "    </tr>\n",
       "    <tr>\n",
       "      <th>min</th>\n",
       "      <td>33.970000</td>\n",
       "      <td>30.490000</td>\n",
       "      <td>30.620000</td>\n",
       "      <td>29.560000</td>\n",
       "      <td>0.000000</td>\n",
       "      <td>29.080000</td>\n",
       "      <td>31.010000</td>\n",
       "      <td>31.470000</td>\n",
       "    </tr>\n",
       "    <tr>\n",
       "      <th>25%</th>\n",
       "      <td>43.130000</td>\n",
       "      <td>39.710000</td>\n",
       "      <td>39.810000</td>\n",
       "      <td>38.900000</td>\n",
       "      <td>38.020000</td>\n",
       "      <td>36.810000</td>\n",
       "      <td>39.690000</td>\n",
       "      <td>40.680000</td>\n",
       "    </tr>\n",
       "    <tr>\n",
       "      <th>50%</th>\n",
       "      <td>50.680000</td>\n",
       "      <td>46.650000</td>\n",
       "      <td>46.810000</td>\n",
       "      <td>45.310000</td>\n",
       "      <td>44.425000</td>\n",
       "      <td>42.660000</td>\n",
       "      <td>46.140000</td>\n",
       "      <td>47.430000</td>\n",
       "    </tr>\n",
       "    <tr>\n",
       "      <th>75%</th>\n",
       "      <td>56.470000</td>\n",
       "      <td>53.430000</td>\n",
       "      <td>52.280000</td>\n",
       "      <td>50.807500</td>\n",
       "      <td>49.370000</td>\n",
       "      <td>47.920000</td>\n",
       "      <td>51.650000</td>\n",
       "      <td>53.230000</td>\n",
       "    </tr>\n",
       "    <tr>\n",
       "      <th>max</th>\n",
       "      <td>78.170000</td>\n",
       "      <td>88.710000</td>\n",
       "      <td>68.340000</td>\n",
       "      <td>71.890000</td>\n",
       "      <td>98.780000</td>\n",
       "      <td>63.250000</td>\n",
       "      <td>69.280000</td>\n",
       "      <td>71.480000</td>\n",
       "    </tr>\n",
       "  </tbody>\n",
       "</table>\n",
       "</div>"
      ],
      "text/plain": [
       "       TANGARA_2BDE  TANGARA_39D6  TANGARA_3B7E  TANGARA_3BEA  TANGARA_421A  \\\n",
       "count  28045.000000  25549.000000  39888.000000  39358.000000  39186.000000   \n",
       "mean      50.113499     46.594498     46.447443     45.220562     44.543531   \n",
       "std        8.270983      8.179410      7.904166      7.922073      8.862698   \n",
       "min       33.970000     30.490000     30.620000     29.560000      0.000000   \n",
       "25%       43.130000     39.710000     39.810000     38.900000     38.020000   \n",
       "50%       50.680000     46.650000     46.810000     45.310000     44.425000   \n",
       "75%       56.470000     53.430000     52.280000     50.807500     49.370000   \n",
       "max       78.170000     88.710000     68.340000     71.890000     98.780000   \n",
       "\n",
       "       TANGARA_422A  TANGARA_5636  TANGARA_D282  \n",
       "count  38837.000000  38993.000000  39058.000000  \n",
       "mean      42.787200     45.947322     47.337607  \n",
       "std        7.288838      7.654836      8.233174  \n",
       "min       29.080000     31.010000     31.470000  \n",
       "25%       36.810000     39.690000     40.680000  \n",
       "50%       42.660000     46.140000     47.430000  \n",
       "75%       47.920000     51.650000     53.230000  \n",
       "max       63.250000     69.280000     71.480000  "
      ]
     },
     "execution_count": 6,
     "metadata": {},
     "output_type": "execute_result"
    }
   ],
   "source": [
    "# Describe Data\n",
    "df_hum_raw.describe()"
   ]
  },
  {
   "cell_type": "markdown",
   "metadata": {},
   "source": [
    "## Missing Data"
   ]
  },
  {
   "cell_type": "code",
   "execution_count": 7,
   "metadata": {
    "execution": {
     "iopub.execute_input": "2023-12-15T23:35:55.552422Z",
     "iopub.status.busy": "2023-12-15T23:35:55.552243Z",
     "iopub.status.idle": "2023-12-15T23:35:55.572551Z",
     "shell.execute_reply": "2023-12-15T23:35:55.572190Z"
    }
   },
   "outputs": [
    {
     "name": "stderr",
     "output_type": "stream",
     "text": [
      "\u001b[32m2023-12-15 15:35:55.555\u001b[0m | \u001b[34m\u001b[1mDEBUG   \u001b[0m | \u001b[36mutils\u001b[0m:\u001b[36mmissing_data\u001b[0m:\u001b[36m230\u001b[0m - \u001b[34m\u001b[1mTangara Sensor: TANGARA_2BDE, To be checked: True, Data: 65%, Missing Data: 35%, Threshold: 80%\u001b[0m\n",
      "\u001b[32m2023-12-15 15:35:55.558\u001b[0m | \u001b[34m\u001b[1mDEBUG   \u001b[0m | \u001b[36mutils\u001b[0m:\u001b[36mmissing_data\u001b[0m:\u001b[36m230\u001b[0m - \u001b[34m\u001b[1mTangara Sensor: TANGARA_39D6, To be checked: True, Data: 59%, Missing Data: 41%, Threshold: 80%\u001b[0m\n",
      "\u001b[32m2023-12-15 15:35:55.561\u001b[0m | \u001b[34m\u001b[1mDEBUG   \u001b[0m | \u001b[36mutils\u001b[0m:\u001b[36mmissing_data\u001b[0m:\u001b[36m230\u001b[0m - \u001b[34m\u001b[1mTangara Sensor: TANGARA_3B7E, To be checked: False, Data: 92%, Missing Data: 8%, Threshold: 80%\u001b[0m\n",
      "\u001b[32m2023-12-15 15:35:55.563\u001b[0m | \u001b[34m\u001b[1mDEBUG   \u001b[0m | \u001b[36mutils\u001b[0m:\u001b[36mmissing_data\u001b[0m:\u001b[36m230\u001b[0m - \u001b[34m\u001b[1mTangara Sensor: TANGARA_3BEA, To be checked: False, Data: 91%, Missing Data: 9%, Threshold: 80%\u001b[0m\n",
      "\u001b[32m2023-12-15 15:35:55.565\u001b[0m | \u001b[34m\u001b[1mDEBUG   \u001b[0m | \u001b[36mutils\u001b[0m:\u001b[36mmissing_data\u001b[0m:\u001b[36m230\u001b[0m - \u001b[34m\u001b[1mTangara Sensor: TANGARA_421A, To be checked: False, Data: 91%, Missing Data: 9%, Threshold: 80%\u001b[0m\n",
      "\u001b[32m2023-12-15 15:35:55.566\u001b[0m | \u001b[34m\u001b[1mDEBUG   \u001b[0m | \u001b[36mutils\u001b[0m:\u001b[36mmissing_data\u001b[0m:\u001b[36m230\u001b[0m - \u001b[34m\u001b[1mTangara Sensor: TANGARA_422A, To be checked: False, Data: 90%, Missing Data: 10%, Threshold: 80%\u001b[0m\n",
      "\u001b[32m2023-12-15 15:35:55.568\u001b[0m | \u001b[34m\u001b[1mDEBUG   \u001b[0m | \u001b[36mutils\u001b[0m:\u001b[36mmissing_data\u001b[0m:\u001b[36m230\u001b[0m - \u001b[34m\u001b[1mTangara Sensor: TANGARA_5636, To be checked: False, Data: 90%, Missing Data: 10%, Threshold: 80%\u001b[0m\n",
      "\u001b[32m2023-12-15 15:35:55.570\u001b[0m | \u001b[34m\u001b[1mDEBUG   \u001b[0m | \u001b[36mutils\u001b[0m:\u001b[36mmissing_data\u001b[0m:\u001b[36m230\u001b[0m - \u001b[34m\u001b[1mTangara Sensor: TANGARA_D282, To be checked: False, Data: 90%, Missing Data: 10%, Threshold: 80%\u001b[0m\n"
     ]
    },
    {
     "name": "stdout",
     "output_type": "stream",
     "text": [
      "Threshold Missing Data: 80%\n",
      "Tangara Sensor: TANGARA_2BDE, To be checked: True, Data: 65%, Missing Data: 35%, Threshold: 0.8%\n",
      "Tangara Sensor: TANGARA_39D6, To be checked: True, Data: 59%, Missing Data: 41%, Threshold: 0.8%\n"
     ]
    }
   ],
   "source": [
    "import warnings\n",
    "warnings.filterwarnings('ignore')\n",
    "\n",
    "# Missing Data Threshold\n",
    "threshold_data = float(os.getenv(\"THRESHOLD_MISSING_DATA\", None))\n",
    "print(f'Threshold Missing Data: {int(threshold_data * 100)}%')\n",
    "\n",
    "# For each Tangara sensor\n",
    "for id_tangara_sensor in df_hum_raw.columns:\n",
    "    df_hum_sensor = df_hum_raw[[id_tangara_sensor]]\n",
    "    # To be checked\n",
    "    to_be_checked, data_percent, missing_data_percent = missing_data(df_hum_sensor, threshold_data)\n",
    "    if to_be_checked:\n",
    "        print(f\"Tangara Sensor: {id_tangara_sensor}, To be checked: {to_be_checked}, Data: {data_percent}%, Missing Data: {missing_data_percent}%, Threshold: {threshold_data}%\")\n",
    "\n",
    "        # Drop Tangara Sensor from original dataframe\n",
    "        df_hum_raw = df_hum_raw.drop(id_tangara_sensor, axis=1)"
   ]
  },
  {
   "cell_type": "markdown",
   "metadata": {},
   "source": [
    "## Data Correlation"
   ]
  },
  {
   "cell_type": "code",
   "execution_count": 8,
   "metadata": {
    "execution": {
     "iopub.execute_input": "2023-12-15T23:35:55.574623Z",
     "iopub.status.busy": "2023-12-15T23:35:55.574434Z",
     "iopub.status.idle": "2023-12-15T23:35:55.660520Z",
     "shell.execute_reply": "2023-12-15T23:35:55.659572Z"
    }
   },
   "outputs": [
    {
     "name": "stderr",
     "output_type": "stream",
     "text": [
      "\u001b[32m2023-12-15 15:35:55.583\u001b[0m | \u001b[34m\u001b[1mDEBUG   \u001b[0m | \u001b[36mutils\u001b[0m:\u001b[36mcorrelation_data\u001b[0m:\u001b[36m287\u001b[0m - \u001b[34m\u001b[1mTangara Sensor Reference: TANGARA_5636, Tangara Sensors Target: TANGARA_3B7E, There is correlation: True, Correlation: 1.0, Threshold: 0.7\u001b[0m\n",
      "\u001b[32m2023-12-15 15:35:55.593\u001b[0m | \u001b[34m\u001b[1mDEBUG   \u001b[0m | \u001b[36mutils\u001b[0m:\u001b[36mcorrelation_data\u001b[0m:\u001b[36m287\u001b[0m - \u001b[34m\u001b[1mTangara Sensor Reference: TANGARA_5636, Tangara Sensors Target: TANGARA_3BEA, There is correlation: True, Correlation: 0.99, Threshold: 0.7\u001b[0m\n",
      "\u001b[32m2023-12-15 15:35:55.622\u001b[0m | \u001b[34m\u001b[1mDEBUG   \u001b[0m | \u001b[36mutils\u001b[0m:\u001b[36mcorrelation_data\u001b[0m:\u001b[36m287\u001b[0m - \u001b[34m\u001b[1mTangara Sensor Reference: TANGARA_5636, Tangara Sensors Target: TANGARA_421A, There is correlation: True, Correlation: 0.92, Threshold: 0.7\u001b[0m\n",
      "\u001b[32m2023-12-15 15:35:55.635\u001b[0m | \u001b[34m\u001b[1mDEBUG   \u001b[0m | \u001b[36mutils\u001b[0m:\u001b[36mcorrelation_data\u001b[0m:\u001b[36m287\u001b[0m - \u001b[34m\u001b[1mTangara Sensor Reference: TANGARA_5636, Tangara Sensors Target: TANGARA_422A, There is correlation: True, Correlation: 1.0, Threshold: 0.7\u001b[0m\n",
      "\u001b[32m2023-12-15 15:35:55.644\u001b[0m | \u001b[34m\u001b[1mDEBUG   \u001b[0m | \u001b[36mutils\u001b[0m:\u001b[36mcorrelation_data\u001b[0m:\u001b[36m287\u001b[0m - \u001b[34m\u001b[1mTangara Sensor Reference: TANGARA_5636, Tangara Sensors Target: TANGARA_5636, There is correlation: True, Correlation: 1.0, Threshold: 0.7\u001b[0m\n",
      "\u001b[32m2023-12-15 15:35:55.655\u001b[0m | \u001b[34m\u001b[1mDEBUG   \u001b[0m | \u001b[36mutils\u001b[0m:\u001b[36mcorrelation_data\u001b[0m:\u001b[36m287\u001b[0m - \u001b[34m\u001b[1mTangara Sensor Reference: TANGARA_5636, Tangara Sensors Target: TANGARA_D282, There is correlation: True, Correlation: 1.0, Threshold: 0.7\u001b[0m\n"
     ]
    },
    {
     "name": "stdout",
     "output_type": "stream",
     "text": [
      "Threshold Correlation Data: 70%\n"
     ]
    }
   ],
   "source": [
    "# Data Correlation Threshold\n",
    "threshold_correlation = float(os.getenv(\"THRESHOLD_CORRELATION_DATA\", None))\n",
    "print(f'Threshold Correlation Data: {int(threshold_correlation * 100)}%')\n",
    "\n",
    "# Tangara Sensor Reference\n",
    "ID_TANGARA_REFERENCE=os.getenv(\"ID_TANGARA_REFERENCE\", None)\n",
    "\n",
    "# Tangara Sensors Target\n",
    "IDS_TANGARA_TARGETS=os.getenv(\"IDS_TANGARA_TARGETS\", None)\n",
    "IDS_TANGARA_TARGETS = IDS_TANGARA_TARGETS.split(',') if IDS_TANGARA_TARGETS else ID_TANGARA_REFERENCE\n",
    "\n",
    "# print(f\"Tangara Sensor Reference: {ID_TANGARA_REFERENCE}, Tangara Sensors Target: {IDS_TANGARA_TARGETS}\")\n",
    "\n",
    "# Reference Tangara Sensor\n",
    "df_tangara_reference = df_hum_raw[[ID_TANGARA_REFERENCE]]\n",
    "\n",
    "# For each Tangara Sensor Target\n",
    "for id_tangara in IDS_TANGARA_TARGETS:\n",
    "    if id_tangara in df_hum_raw.columns:\n",
    "        # Target Tangara Sensor\n",
    "        df_tangara_target = df_hum_raw[[id_tangara]]\n",
    "\n",
    "        # To be checked\n",
    "        if not math.isnan(df_tangara_reference.std()):\n",
    "            has_corr, corr = correlation_data(df_tangara_reference, df_tangara_target, threshold_correlation)\n",
    "            if not has_corr:\n",
    "                print(f\"Tangara Sensor Reference: {ID_TANGARA_REFERENCE}, Tangara Sensors Target: {id_tangara}, There is correlation: {has_corr}, Correlation: {float(\"{:.2f}\".format(corr))}, Threshold: {threshold_correlation}\")\n",
    "\n",
    "                # Drop Tangara Sensor from original dataframe\n",
    "                df_hum_raw = df_hum_raw.drop(id_tangara, axis=1)"
   ]
  },
  {
   "cell_type": "code",
   "execution_count": 9,
   "metadata": {
    "execution": {
     "iopub.execute_input": "2023-12-15T23:35:55.664867Z",
     "iopub.status.busy": "2023-12-15T23:35:55.664312Z",
     "iopub.status.idle": "2023-12-15T23:35:56.248130Z",
     "shell.execute_reply": "2023-12-15T23:35:56.247727Z"
    }
   },
   "outputs": [
    {
     "name": "stderr",
     "output_type": "stream",
     "text": [
      "\u001b[32m2023-12-15 15:35:56.245\u001b[0m | \u001b[34m\u001b[1mDEBUG   \u001b[0m | \u001b[36mutils\u001b[0m:\u001b[36mdf_to_csv\u001b[0m:\u001b[36m311\u001b[0m - \u001b[34m\u001b[1mSave DataFrame: /home/sebaxtian/Workspaces/Tangara/tangara-evaluation/src/data/0_raw/hum_raw.csv\u001b[0m\n"
     ]
    }
   ],
   "source": [
    "# Save Humidity Data Frame Sensors into CSV file\n",
    "df_to_csv(df_hum_raw, \"hum_raw.csv\")"
   ]
  }
 ],
 "metadata": {
  "kernelspec": {
   "display_name": ".venv",
   "language": "python",
   "name": "python3"
  },
  "language_info": {
   "codemirror_mode": {
    "name": "ipython",
    "version": 3
   },
   "file_extension": ".py",
   "mimetype": "text/x-python",
   "name": "python",
   "nbconvert_exporter": "python",
   "pygments_lexer": "ipython3",
   "version": "3.12.0"
  }
 },
 "nbformat": 4,
 "nbformat_minor": 2
}
