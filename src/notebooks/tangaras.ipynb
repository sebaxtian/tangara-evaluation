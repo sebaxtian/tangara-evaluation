{
 "cells": [
  {
   "cell_type": "code",
   "execution_count": 1,
   "metadata": {
    "execution": {
     "iopub.execute_input": "2023-12-15T23:35:04.564343Z",
     "iopub.status.busy": "2023-12-15T23:35:04.563840Z",
     "iopub.status.idle": "2023-12-15T23:35:07.177569Z",
     "shell.execute_reply": "2023-12-15T23:35:07.176219Z"
    }
   },
   "outputs": [
    {
     "name": "stdout",
     "output_type": "stream",
     "text": [
      "PM2.5: 35.9, AQI: 102\n",
      "PM2.5: 35.9, Measure Level: MeasureLevels.UNHEALTHY_FOR_SENSITIVE_GROUPS, Range Values: Min: 35.5, Max: 55.4\n",
      "AQI: 102, Measure Level: MeasureLevels.UNHEALTHY_FOR_SENSITIVE_GROUPS, Range Values: Min: 101, Max: 150\n"
     ]
    }
   ],
   "source": [
    "import os\n",
    "\n",
    "from dotenv import load_dotenv\n",
    "\n",
    "# Explicitly providing path to '.env'\n",
    "from pathlib import Path  # Python 3.6+ only\n",
    "# Load .env variables\n",
    "_ = load_dotenv(dotenv_path=f\"{Path().resolve().parents[1]}/src/.env\")\n",
    "\n",
    "# with the new api\n",
    "from importnb import imports\n",
    "with imports(\"ipynb\"):\n",
    "    from utils import to_timestamp, df_tangara_sensors, df_to_csv"
   ]
  },
  {
   "cell_type": "markdown",
   "metadata": {},
   "source": [
    "## Tangara Sensors"
   ]
  },
  {
   "cell_type": "code",
   "execution_count": 2,
   "metadata": {
    "execution": {
     "iopub.execute_input": "2023-12-15T23:35:07.254426Z",
     "iopub.status.busy": "2023-12-15T23:35:07.253926Z",
     "iopub.status.idle": "2023-12-15T23:35:07.264609Z",
     "shell.execute_reply": "2023-12-15T23:35:07.263469Z"
    }
   },
   "outputs": [
    {
     "name": "stderr",
     "output_type": "stream",
     "text": [
      "\u001b[32m2023-12-15 15:35:07.256\u001b[0m | \u001b[34m\u001b[1mDEBUG   \u001b[0m | \u001b[36mutils\u001b[0m:\u001b[36mto_timestamp\u001b[0m:\u001b[36m99\u001b[0m - \u001b[34m\u001b[1mdatetime_iso8601: 2023-11-26T00:00:00-05:00, Timestamp: 1700974800000\u001b[0m\n",
      "\u001b[32m2023-12-15 15:35:07.259\u001b[0m | \u001b[34m\u001b[1mDEBUG   \u001b[0m | \u001b[36mutils\u001b[0m:\u001b[36mto_timestamp\u001b[0m:\u001b[36m99\u001b[0m - \u001b[34m\u001b[1mdatetime_iso8601: 2023-12-10T23:59:59-05:00, Timestamp: 1702270799000\u001b[0m\n"
     ]
    },
    {
     "name": "stdout",
     "output_type": "stream",
     "text": [
      "Since: 2023-11-26T00:00:00-05:00 -> 1700974800000, Until: 2023-12-10T23:59:59-05:00 -> 1702270799000\n"
     ]
    }
   ],
   "source": [
    "# Start Date Time ISO 8601 Format, TZ='America/Bogota' -05:00\n",
    "START_ISO8601_DATETIME=os.getenv(\"START_ISO8601_DATETIME\", None)\n",
    "start_timestamp = to_timestamp(START_ISO8601_DATETIME)\n",
    "# End Date Time ISO 8601 Format, TZ='America/Bogota' -05:00\n",
    "END_ISO8601_DATETIME=os.getenv(\"END_ISO8601_DATETIME\", None)\n",
    "end_timestamp = to_timestamp(os.getenv(\"END_ISO8601_DATETIME\", None))\n",
    "\n",
    "print(f'Since: {START_ISO8601_DATETIME} -> {start_timestamp}, Until: {END_ISO8601_DATETIME} -> {end_timestamp}')"
   ]
  },
  {
   "cell_type": "code",
   "execution_count": 3,
   "metadata": {
    "execution": {
     "iopub.execute_input": "2023-12-15T23:35:07.269432Z",
     "iopub.status.busy": "2023-12-15T23:35:07.269092Z",
     "iopub.status.idle": "2023-12-15T23:35:08.669639Z",
     "shell.execute_reply": "2023-12-15T23:35:08.668248Z"
    }
   },
   "outputs": [
    {
     "name": "stderr",
     "output_type": "stream",
     "text": [
      "\u001b[32m2023-12-15 15:35:07.271\u001b[0m | \u001b[34m\u001b[1mDEBUG   \u001b[0m | \u001b[36mutils\u001b[0m:\u001b[36mquery_tangaras\u001b[0m:\u001b[36m156\u001b[0m - \u001b[34m\u001b[1msql_query: SELECT DISTINCT(geo) AS \"geohash\" FROM \"fixed_stations_01\" WHERE (\"geo3\" = 'd29') AND time >= 1700974800000ms AND time <= 1702270799000ms GROUP BY \"name\";\u001b[0m\n",
      "\u001b[32m2023-12-15 15:35:08.520\u001b[0m | \u001b[34m\u001b[1mDEBUG   \u001b[0m | \u001b[36mutils\u001b[0m:\u001b[36mrequest_influxdb\u001b[0m:\u001b[36m131\u001b[0m - \u001b[34m\u001b[1mresponse: <Response [200]>\u001b[0m\n",
      "\u001b[32m2023-12-15 15:35:08.641\u001b[0m | \u001b[34m\u001b[1mDEBUG   \u001b[0m | \u001b[36mutils\u001b[0m:\u001b[36mdf_tangara_sensors\u001b[0m:\u001b[36m406\u001b[0m - \u001b[34m\u001b[1mData Frame Tangaras Sensors: <class 'pandas.core.frame.DataFrame'>\n",
      "Index: 23 entries, TANGARA_25CE to TANGARA_06BE\n",
      "Data columns (total 5 columns):\n",
      " #   Column       Non-Null Count  Dtype \n",
      "---  ------       --------------  ----- \n",
      " 0   GEOHASH      23 non-null     object\n",
      " 1   MAC          23 non-null     object\n",
      " 2   GEOLOCATION  23 non-null     object\n",
      " 3   LATITUDE     23 non-null     object\n",
      " 4   LONGITUDE    23 non-null     object\n",
      "dtypes: object(5)\n",
      "memory usage: 1.1+ KB\n",
      "\u001b[0m\n"
     ]
    },
    {
     "name": "stdout",
     "output_type": "stream",
     "text": [
      "Period of Time: Since: 2023-11-26T00:00:00-05:00, Until: 2023-12-10T23:59:59-05:00\n",
      "Total Tangara Sensors: 22\n"
     ]
    },
    {
     "data": {
      "text/html": [
       "<div>\n",
       "<style scoped>\n",
       "    .dataframe tbody tr th:only-of-type {\n",
       "        vertical-align: middle;\n",
       "    }\n",
       "\n",
       "    .dataframe tbody tr th {\n",
       "        vertical-align: top;\n",
       "    }\n",
       "\n",
       "    .dataframe thead th {\n",
       "        text-align: right;\n",
       "    }\n",
       "</style>\n",
       "<table border=\"1\" class=\"dataframe\">\n",
       "  <thead>\n",
       "    <tr style=\"text-align: right;\">\n",
       "      <th></th>\n",
       "      <th>GEOHASH</th>\n",
       "      <th>MAC</th>\n",
       "      <th>GEOLOCATION</th>\n",
       "      <th>LATITUDE</th>\n",
       "      <th>LONGITUDE</th>\n",
       "    </tr>\n",
       "    <tr>\n",
       "      <th>ID</th>\n",
       "      <th></th>\n",
       "      <th></th>\n",
       "      <th></th>\n",
       "      <th></th>\n",
       "      <th></th>\n",
       "    </tr>\n",
       "  </thead>\n",
       "  <tbody>\n",
       "    <tr>\n",
       "      <th>TANGARA_25CE</th>\n",
       "      <td>d29e4r0</td>\n",
       "      <td>D29ESP32DE125CE</td>\n",
       "      <td>3.3789825439453125 -76.54106140136719</td>\n",
       "      <td>3.3789825439453125</td>\n",
       "      <td>-76.54106140136719</td>\n",
       "    </tr>\n",
       "    <tr>\n",
       "      <th>TANGARA_260A</th>\n",
       "      <td>d29edyj</td>\n",
       "      <td>D29ESP32DE1260A</td>\n",
       "      <td>3.4613800048828125 -76.51222229003906</td>\n",
       "      <td>3.4613800048828125</td>\n",
       "      <td>-76.51222229003906</td>\n",
       "    </tr>\n",
       "    <tr>\n",
       "      <th>TANGARA_2BDE</th>\n",
       "      <td>d29e6de</td>\n",
       "      <td>D29ESP32DE52BDE</td>\n",
       "      <td>3.3982086181640625 -76.52595520019531</td>\n",
       "      <td>3.3982086181640625</td>\n",
       "      <td>-76.52595520019531</td>\n",
       "    </tr>\n",
       "    <tr>\n",
       "      <th>TANGARA_39D6</th>\n",
       "      <td>d29e6de</td>\n",
       "      <td>D29ESP32DE539D6</td>\n",
       "      <td>3.3982086181640625 -76.52595520019531</td>\n",
       "      <td>3.3982086181640625</td>\n",
       "      <td>-76.52595520019531</td>\n",
       "    </tr>\n",
       "    <tr>\n",
       "      <th>TANGARA_3B7E</th>\n",
       "      <td>d29e6de</td>\n",
       "      <td>D29ESP32DE53B7E</td>\n",
       "      <td>3.3982086181640625 -76.52595520019531</td>\n",
       "      <td>3.3982086181640625</td>\n",
       "      <td>-76.52595520019531</td>\n",
       "    </tr>\n",
       "  </tbody>\n",
       "</table>\n",
       "</div>"
      ],
      "text/plain": [
       "              GEOHASH              MAC                            GEOLOCATION  \\\n",
       "ID                                                                              \n",
       "TANGARA_25CE  d29e4r0  D29ESP32DE125CE  3.3789825439453125 -76.54106140136719   \n",
       "TANGARA_260A  d29edyj  D29ESP32DE1260A  3.4613800048828125 -76.51222229003906   \n",
       "TANGARA_2BDE  d29e6de  D29ESP32DE52BDE  3.3982086181640625 -76.52595520019531   \n",
       "TANGARA_39D6  d29e6de  D29ESP32DE539D6  3.3982086181640625 -76.52595520019531   \n",
       "TANGARA_3B7E  d29e6de  D29ESP32DE53B7E  3.3982086181640625 -76.52595520019531   \n",
       "\n",
       "                        LATITUDE           LONGITUDE  \n",
       "ID                                                    \n",
       "TANGARA_25CE  3.3789825439453125  -76.54106140136719  \n",
       "TANGARA_260A  3.4613800048828125  -76.51222229003906  \n",
       "TANGARA_2BDE  3.3982086181640625  -76.52595520019531  \n",
       "TANGARA_39D6  3.3982086181640625  -76.52595520019531  \n",
       "TANGARA_3B7E  3.3982086181640625  -76.52595520019531  "
      ]
     },
     "execution_count": 3,
     "metadata": {},
     "output_type": "execute_result"
    }
   ],
   "source": [
    "# Data Frame Tangaras from InfluxDB\n",
    "df_tangaras = df_tangara_sensors(start_timestamp, end_timestamp)\n",
    "df_tangaras.drop_duplicates(subset=['MAC'], inplace=True)\n",
    "\n",
    "print(f\"Period of Time: Since: {START_ISO8601_DATETIME}, Until: {END_ISO8601_DATETIME}\")\n",
    "print(f\"Total Tangara Sensors: {len(df_tangaras)}\")\n",
    "\n",
    "df_tangaras.head()"
   ]
  },
  {
   "cell_type": "code",
   "execution_count": 4,
   "metadata": {
    "execution": {
     "iopub.execute_input": "2023-12-15T23:35:08.674567Z",
     "iopub.status.busy": "2023-12-15T23:35:08.674227Z",
     "iopub.status.idle": "2023-12-15T23:35:08.684476Z",
     "shell.execute_reply": "2023-12-15T23:35:08.683416Z"
    }
   },
   "outputs": [
    {
     "name": "stderr",
     "output_type": "stream",
     "text": [
      "\u001b[32m2023-12-15 15:35:08.680\u001b[0m | \u001b[34m\u001b[1mDEBUG   \u001b[0m | \u001b[36mutils\u001b[0m:\u001b[36mdf_to_csv\u001b[0m:\u001b[36m311\u001b[0m - \u001b[34m\u001b[1mSave DataFrame: /home/sebaxtian/Workspaces/Tangara/tangara-evaluation/src/data/0_raw/tangaras.csv\u001b[0m\n"
     ]
    }
   ],
   "source": [
    "# Save Tangaras into CSV file\n",
    "df_to_csv(df_tangaras, \"tangaras.csv\")"
   ]
  }
 ],
 "metadata": {
  "kernelspec": {
   "display_name": ".venv",
   "language": "python",
   "name": "python3"
  },
  "language_info": {
   "codemirror_mode": {
    "name": "ipython",
    "version": 3
   },
   "file_extension": ".py",
   "mimetype": "text/x-python",
   "name": "python",
   "nbconvert_exporter": "python",
   "pygments_lexer": "ipython3",
   "version": "3.12.0"
  }
 },
 "nbformat": 4,
 "nbformat_minor": 2
}
