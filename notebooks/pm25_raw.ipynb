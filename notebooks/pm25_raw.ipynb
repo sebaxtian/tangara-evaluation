{
 "cells": [
  {
   "cell_type": "code",
   "execution_count": 1,
   "metadata": {},
   "outputs": [
    {
     "name": "stdout",
     "output_type": "stream",
     "text": [
      "importing Jupyter notebook from evaluation.ipynb\n"
     ]
    }
   ],
   "source": [
    "from datetime import datetime, timezone, timedelta\n",
    "import pandas as pd\n",
    "from io import StringIO\n",
    "import import_ipynb\n",
    "from evaluation import to_timestamp, request_influxdb, query_data, histplots, boxplots, lineplots, missing_data, correlation\n"
   ]
  },
  {
   "cell_type": "code",
   "execution_count": 2,
   "metadata": {},
   "outputs": [
    {
     "data": {
      "text/plain": [
       "(6, 6)"
      ]
     },
     "execution_count": 2,
     "metadata": {},
     "output_type": "execute_result"
    }
   ],
   "source": [
    "# Load Tangaras\n",
    "tangaras = pd.read_csv('../data/tangaras.csv')\n",
    "tangaras.shape"
   ]
  },
  {
   "cell_type": "code",
   "execution_count": 3,
   "metadata": {},
   "outputs": [
    {
     "name": "stdout",
     "output_type": "stream",
     "text": [
      "Since: 1686546000000 Until: 1687150799000\n"
     ]
    }
   ],
   "source": [
    "# Start Date Time ISO 8601 Format, TZ='America/Bogota' -05:00\n",
    "#start_timestamp = to_timestamp('2023-03-17T00:00:00-05:00')\n",
    "#start_timestamp = to_timestamp('2023-04-03T00:00:00-05:00')\n",
    "start_timestamp = to_timestamp('2023-06-12T00:00:00-05:00')\n",
    "\n",
    "# End Date Time ISO 8601 Format, TZ='America/Bogota' -05:00\n",
    "#end_timestamp = to_timestamp('2023-03-31T00:00:00-05:00')\n",
    "#end_timestamp = to_timestamp('2023-04-04T00:00:00-05:00')\n",
    "end_timestamp = to_timestamp('2023-06-18T23:59:59-05:00')\n",
    "\n",
    "print(f'Since: {start_timestamp} Until: {end_timestamp}')\n"
   ]
  },
  {
   "cell_type": "code",
   "execution_count": 4,
   "metadata": {},
   "outputs": [],
   "source": [
    "# Get Data Frame Sensors\n",
    "def df_sensors(tangaras, start_timestamp, end_timestamp):\n",
    "    # Data Frame Sensors\n",
    "    df_sensors = []\n",
    "    # SQL Query Data Sensors\n",
    "    query = query_data(tangaras, start_timestamp, end_timestamp)\n",
    "    # InfluxDB API REST Request\n",
    "    influxdb_request = request_influxdb(query)\n",
    "    #print(influxdb_request)\n",
    "    #print(influxdb_request.text)\n",
    "\n",
    "    # Data Frame InfluxDB Sensors\n",
    "    df_influxdb_sensors = pd.read_csv(StringIO(influxdb_request.text), sep=\",\", low_memory=False)\n",
    "\n",
    "    # Remove/Add Columns\n",
    "    df_influxdb_sensors = df_influxdb_sensors[['time', 'name.1', 'last']]\n",
    "    df_influxdb_sensors.rename(columns={'time': 'DATETIME', 'name.1': 'MAC', 'last': 'PM25'}, inplace=True)\n",
    "\n",
    "    # Truncate Response\n",
    "    for index, row in tangaras.iterrows():\n",
    "        df_sensor = df_influxdb_sensors.loc[df_influxdb_sensors['MAC'] == row['MAC']].reset_index(drop=True)[['DATETIME', 'PM25']] # Warning\n",
    "        if not df_sensor.empty:\n",
    "            df_sensor.rename(columns={'PM25': row['ID']}, inplace=True)\n",
    "            df_sensor.set_index('DATETIME', inplace=True)\n",
    "            df_sensors.append(df_sensor)\n",
    "    \n",
    "    df_sensors = df_sensors[0].join(df_sensors[1:]).reset_index()\n",
    "\n",
    "    # Date Time ISO 8601 Format, TZ='America/Bogota' -05:00\n",
    "    tz = timezone(timedelta(hours=-5))\n",
    "    df_sensors['DATETIME'] = df_sensors['DATETIME'].apply(lambda x: datetime.fromtimestamp(int(x) / 1000, tz=tz).isoformat())\n",
    "    df_sensors['DATETIME'] = pd.to_datetime(df_sensors['DATETIME'])\n",
    "\n",
    "    # Set Index\n",
    "    df_sensors.set_index('DATETIME', inplace=True)\n",
    "    df_sensors = df_sensors.asfreq(freq='30S')\n",
    "\n",
    "    # Data type as float64\n",
    "    df_sensors[df_sensors.columns.to_list()] = df_sensors[df_sensors.columns.to_list()].astype('float64')\n",
    "    \n",
    "    return df_sensors\n"
   ]
  },
  {
   "cell_type": "code",
   "execution_count": 5,
   "metadata": {},
   "outputs": [
    {
     "data": {
      "text/html": [
       "<div>\n",
       "<style scoped>\n",
       "    .dataframe tbody tr th:only-of-type {\n",
       "        vertical-align: middle;\n",
       "    }\n",
       "\n",
       "    .dataframe tbody tr th {\n",
       "        vertical-align: top;\n",
       "    }\n",
       "\n",
       "    .dataframe thead th {\n",
       "        text-align: right;\n",
       "    }\n",
       "</style>\n",
       "<table border=\"1\" class=\"dataframe\">\n",
       "  <thead>\n",
       "    <tr style=\"text-align: right;\">\n",
       "      <th></th>\n",
       "      <th>TANGARA_260A</th>\n",
       "      <th>TANGARA_1282</th>\n",
       "      <th>TANGARA_2492</th>\n",
       "      <th>TANGARA_48C6</th>\n",
       "      <th>TANGARA_F1AE</th>\n",
       "      <th>TANGARA_06BE</th>\n",
       "    </tr>\n",
       "    <tr>\n",
       "      <th>DATETIME</th>\n",
       "      <th></th>\n",
       "      <th></th>\n",
       "      <th></th>\n",
       "      <th></th>\n",
       "      <th></th>\n",
       "      <th></th>\n",
       "    </tr>\n",
       "  </thead>\n",
       "  <tbody>\n",
       "    <tr>\n",
       "      <th>2023-06-12 00:00:30-05:00</th>\n",
       "      <td>8.0</td>\n",
       "      <td>5.0</td>\n",
       "      <td>8.0</td>\n",
       "      <td>3.0</td>\n",
       "      <td>3.0</td>\n",
       "      <td>10.0</td>\n",
       "    </tr>\n",
       "    <tr>\n",
       "      <th>2023-06-12 00:01:00-05:00</th>\n",
       "      <td>8.0</td>\n",
       "      <td>9.0</td>\n",
       "      <td>9.0</td>\n",
       "      <td>5.0</td>\n",
       "      <td>3.0</td>\n",
       "      <td>10.0</td>\n",
       "    </tr>\n",
       "    <tr>\n",
       "      <th>2023-06-12 00:01:30-05:00</th>\n",
       "      <td>8.0</td>\n",
       "      <td>7.0</td>\n",
       "      <td>9.0</td>\n",
       "      <td>6.0</td>\n",
       "      <td>3.0</td>\n",
       "      <td>11.0</td>\n",
       "    </tr>\n",
       "    <tr>\n",
       "      <th>2023-06-12 00:02:00-05:00</th>\n",
       "      <td>8.0</td>\n",
       "      <td>8.0</td>\n",
       "      <td>9.0</td>\n",
       "      <td>7.0</td>\n",
       "      <td>3.0</td>\n",
       "      <td>10.0</td>\n",
       "    </tr>\n",
       "    <tr>\n",
       "      <th>2023-06-12 00:02:30-05:00</th>\n",
       "      <td>9.0</td>\n",
       "      <td>8.0</td>\n",
       "      <td>10.0</td>\n",
       "      <td>3.0</td>\n",
       "      <td>2.0</td>\n",
       "      <td>10.0</td>\n",
       "    </tr>\n",
       "  </tbody>\n",
       "</table>\n",
       "</div>"
      ],
      "text/plain": [
       "                           TANGARA_260A  TANGARA_1282  TANGARA_2492  \\\n",
       "DATETIME                                                              \n",
       "2023-06-12 00:00:30-05:00           8.0           5.0           8.0   \n",
       "2023-06-12 00:01:00-05:00           8.0           9.0           9.0   \n",
       "2023-06-12 00:01:30-05:00           8.0           7.0           9.0   \n",
       "2023-06-12 00:02:00-05:00           8.0           8.0           9.0   \n",
       "2023-06-12 00:02:30-05:00           9.0           8.0          10.0   \n",
       "\n",
       "                           TANGARA_48C6  TANGARA_F1AE  TANGARA_06BE  \n",
       "DATETIME                                                             \n",
       "2023-06-12 00:00:30-05:00           3.0           3.0          10.0  \n",
       "2023-06-12 00:01:00-05:00           5.0           3.0          10.0  \n",
       "2023-06-12 00:01:30-05:00           6.0           3.0          11.0  \n",
       "2023-06-12 00:02:00-05:00           7.0           3.0          10.0  \n",
       "2023-06-12 00:02:30-05:00           3.0           2.0          10.0  "
      ]
     },
     "execution_count": 5,
     "metadata": {},
     "output_type": "execute_result"
    }
   ],
   "source": [
    "# Data Frame Sensors\n",
    "pm25_raw = df_sensors(tangaras, start_timestamp, end_timestamp)\n",
    "pm25_raw.head()"
   ]
  },
  {
   "attachments": {},
   "cell_type": "markdown",
   "metadata": {},
   "source": [
    "# Descriptive Statistics"
   ]
  },
  {
   "cell_type": "code",
   "execution_count": 6,
   "metadata": {},
   "outputs": [
    {
     "data": {
      "text/html": [
       "<div>\n",
       "<style scoped>\n",
       "    .dataframe tbody tr th:only-of-type {\n",
       "        vertical-align: middle;\n",
       "    }\n",
       "\n",
       "    .dataframe tbody tr th {\n",
       "        vertical-align: top;\n",
       "    }\n",
       "\n",
       "    .dataframe thead th {\n",
       "        text-align: right;\n",
       "    }\n",
       "</style>\n",
       "<table border=\"1\" class=\"dataframe\">\n",
       "  <thead>\n",
       "    <tr style=\"text-align: right;\">\n",
       "      <th></th>\n",
       "      <th>TANGARA_260A</th>\n",
       "      <th>TANGARA_1282</th>\n",
       "      <th>TANGARA_2492</th>\n",
       "      <th>TANGARA_48C6</th>\n",
       "      <th>TANGARA_F1AE</th>\n",
       "      <th>TANGARA_06BE</th>\n",
       "    </tr>\n",
       "  </thead>\n",
       "  <tbody>\n",
       "    <tr>\n",
       "      <th>count</th>\n",
       "      <td>18995.000000</td>\n",
       "      <td>18101.000000</td>\n",
       "      <td>18992.000000</td>\n",
       "      <td>18095.000000</td>\n",
       "      <td>17271.000000</td>\n",
       "      <td>18655.000000</td>\n",
       "    </tr>\n",
       "    <tr>\n",
       "      <th>mean</th>\n",
       "      <td>9.026112</td>\n",
       "      <td>10.422794</td>\n",
       "      <td>8.672336</td>\n",
       "      <td>7.339376</td>\n",
       "      <td>7.688206</td>\n",
       "      <td>10.661431</td>\n",
       "    </tr>\n",
       "    <tr>\n",
       "      <th>std</th>\n",
       "      <td>4.997183</td>\n",
       "      <td>6.951972</td>\n",
       "      <td>18.425962</td>\n",
       "      <td>4.878466</td>\n",
       "      <td>3.844126</td>\n",
       "      <td>7.536536</td>\n",
       "    </tr>\n",
       "    <tr>\n",
       "      <th>min</th>\n",
       "      <td>2.000000</td>\n",
       "      <td>1.000000</td>\n",
       "      <td>1.000000</td>\n",
       "      <td>0.000000</td>\n",
       "      <td>2.000000</td>\n",
       "      <td>2.000000</td>\n",
       "    </tr>\n",
       "    <tr>\n",
       "      <th>25%</th>\n",
       "      <td>6.000000</td>\n",
       "      <td>6.000000</td>\n",
       "      <td>6.000000</td>\n",
       "      <td>4.000000</td>\n",
       "      <td>5.000000</td>\n",
       "      <td>7.000000</td>\n",
       "    </tr>\n",
       "    <tr>\n",
       "      <th>50%</th>\n",
       "      <td>8.000000</td>\n",
       "      <td>9.000000</td>\n",
       "      <td>7.000000</td>\n",
       "      <td>6.000000</td>\n",
       "      <td>7.000000</td>\n",
       "      <td>9.000000</td>\n",
       "    </tr>\n",
       "    <tr>\n",
       "      <th>75%</th>\n",
       "      <td>11.000000</td>\n",
       "      <td>13.000000</td>\n",
       "      <td>9.000000</td>\n",
       "      <td>10.000000</td>\n",
       "      <td>10.000000</td>\n",
       "      <td>13.000000</td>\n",
       "    </tr>\n",
       "    <tr>\n",
       "      <th>max</th>\n",
       "      <td>45.000000</td>\n",
       "      <td>87.000000</td>\n",
       "      <td>922.000000</td>\n",
       "      <td>76.000000</td>\n",
       "      <td>37.000000</td>\n",
       "      <td>495.000000</td>\n",
       "    </tr>\n",
       "  </tbody>\n",
       "</table>\n",
       "</div>"
      ],
      "text/plain": [
       "       TANGARA_260A  TANGARA_1282  TANGARA_2492  TANGARA_48C6  TANGARA_F1AE  \\\n",
       "count  18995.000000  18101.000000  18992.000000  18095.000000  17271.000000   \n",
       "mean       9.026112     10.422794      8.672336      7.339376      7.688206   \n",
       "std        4.997183      6.951972     18.425962      4.878466      3.844126   \n",
       "min        2.000000      1.000000      1.000000      0.000000      2.000000   \n",
       "25%        6.000000      6.000000      6.000000      4.000000      5.000000   \n",
       "50%        8.000000      9.000000      7.000000      6.000000      7.000000   \n",
       "75%       11.000000     13.000000      9.000000     10.000000     10.000000   \n",
       "max       45.000000     87.000000    922.000000     76.000000     37.000000   \n",
       "\n",
       "       TANGARA_06BE  \n",
       "count  18655.000000  \n",
       "mean      10.661431  \n",
       "std        7.536536  \n",
       "min        2.000000  \n",
       "25%        7.000000  \n",
       "50%        9.000000  \n",
       "75%       13.000000  \n",
       "max      495.000000  "
      ]
     },
     "execution_count": 6,
     "metadata": {},
     "output_type": "execute_result"
    }
   ],
   "source": [
    "# Describe Data\n",
    "pm25_raw.describe()"
   ]
  },
  {
   "cell_type": "code",
   "execution_count": 7,
   "metadata": {},
   "outputs": [
    {
     "name": "stdout",
     "output_type": "stream",
     "text": [
      "Threshold: 85%\n",
      "Total Sensors: 6\n",
      "To Be Checked: 0\n"
     ]
    },
    {
     "data": {
      "text/plain": [
       "[]"
      ]
     },
     "execution_count": 7,
     "metadata": {},
     "output_type": "execute_result"
    }
   ],
   "source": [
    "# Missing Data Sensors\n",
    "threshold = 85\n",
    "to_be_checked = missing_data(pm25_raw, threshold)\n",
    "\n",
    "print(f'Threshold: {threshold}%')\n",
    "print(f'Total Sensors: {len(pm25_raw.columns)}')\n",
    "print(f'To Be Checked: {len(to_be_checked)}')\n",
    "to_be_checked\n"
   ]
  },
  {
   "cell_type": "code",
   "execution_count": 8,
   "metadata": {},
   "outputs": [
    {
     "name": "stdout",
     "output_type": "stream",
     "text": [
      "Threshold: 0.85\n",
      "Total Sensors: 3\n",
      "To Be Checked: 2\n"
     ]
    },
    {
     "data": {
      "text/plain": [
       "[{'Reference': {'ID': 'TANGARA_1282', 'Data': 20157, 'Freq': <30 * Seconds>},\n",
       "  'Target': {'ID': 'TANGARA_260A', 'Data': 20157, 'Freq': <30 * Seconds>},\n",
       "  'Correlation': 0.7775261855191344},\n",
       " {'Reference': {'ID': 'TANGARA_1282', 'Data': 20157, 'Freq': <30 * Seconds>},\n",
       "  'Target': {'ID': 'TANGARA_06BE', 'Data': 20157, 'Freq': <30 * Seconds>},\n",
       "  'Correlation': 0.3418650799386166}]"
      ]
     },
     "execution_count": 8,
     "metadata": {},
     "output_type": "execute_result"
    }
   ],
   "source": [
    "# Sensors to evaluate by Pearson correlation coefficient\n",
    "sensors_to_evaluate = pm25_raw[['TANGARA_1282', 'TANGARA_260A', 'TANGARA_06BE']]\n",
    "\n",
    "# Pearson correlation coefficient\n",
    "threshold = 0.85\n",
    "to_be_checked = correlation(sensors_to_evaluate, 'TANGARA_1282', threshold)\n",
    "\n",
    "# Correlation Sensors\n",
    "print(f'Threshold: {threshold}')\n",
    "print(f'Total Sensors: {len(sensors_to_evaluate.columns)}')\n",
    "print(f'To Be Checked: {len(to_be_checked)}')\n",
    "to_be_checked\n"
   ]
  },
  {
   "cell_type": "code",
   "execution_count": 9,
   "metadata": {},
   "outputs": [],
   "source": [
    "# Save PM25 raw data into CSV file\n",
    "pm25_raw.to_csv('../data/pm25_raw.csv')"
   ]
  },
  {
   "cell_type": "code",
   "execution_count": null,
   "metadata": {},
   "outputs": [],
   "source": []
  }
 ],
 "metadata": {
  "kernelspec": {
   "display_name": "Python 3",
   "language": "python",
   "name": "python3"
  },
  "language_info": {
   "codemirror_mode": {
    "name": "ipython",
    "version": 3
   },
   "file_extension": ".py",
   "mimetype": "text/x-python",
   "name": "python",
   "nbconvert_exporter": "python",
   "pygments_lexer": "ipython3",
   "version": "3.10.6"
  },
  "orig_nbformat": 4
 },
 "nbformat": 4,
 "nbformat_minor": 2
}
