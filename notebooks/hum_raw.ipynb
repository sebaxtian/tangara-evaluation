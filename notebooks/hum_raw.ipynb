{
 "cells": [
  {
   "cell_type": "code",
   "execution_count": 10,
   "metadata": {},
   "outputs": [],
   "source": [
    "from datetime import datetime, timezone, timedelta\n",
    "import pandas as pd\n",
    "from io import StringIO\n",
    "import import_ipynb\n",
    "from evaluation import to_timestamp, request_influxdb, query_data, histplots, boxplots, lineplots, missing_data, correlation\n"
   ]
  },
  {
   "cell_type": "code",
   "execution_count": 11,
   "metadata": {},
   "outputs": [
    {
     "data": {
      "text/plain": [
       "(6, 6)"
      ]
     },
     "execution_count": 11,
     "metadata": {},
     "output_type": "execute_result"
    }
   ],
   "source": [
    "# Load Tangaras\n",
    "tangaras = pd.read_csv('../data/tangaras.csv')\n",
    "tangaras.shape"
   ]
  },
  {
   "cell_type": "code",
   "execution_count": 12,
   "metadata": {},
   "outputs": [
    {
     "name": "stdout",
     "output_type": "stream",
     "text": [
      "Since: 1686546000000 Until: 1687150799000\n"
     ]
    }
   ],
   "source": [
    "# Start Date Time ISO 8601 Format, TZ='America/Bogota' -05:00\n",
    "#start_timestamp = to_timestamp('2023-03-17T00:00:00-05:00')\n",
    "#start_timestamp = to_timestamp('2023-04-03T00:00:00-05:00')\n",
    "start_timestamp = to_timestamp('2023-06-12T00:00:00-05:00')\n",
    "\n",
    "# End Date Time ISO 8601 Format, TZ='America/Bogota' -05:00\n",
    "#end_timestamp = to_timestamp('2023-03-31T00:00:00-05:00')\n",
    "#end_timestamp = to_timestamp('2023-04-04T00:00:00-05:00')\n",
    "end_timestamp = to_timestamp('2023-06-18T23:59:59-05:00')\n",
    "\n",
    "print(f'Since: {start_timestamp} Until: {end_timestamp}')\n"
   ]
  },
  {
   "cell_type": "code",
   "execution_count": 13,
   "metadata": {},
   "outputs": [],
   "source": [
    "# Get Data Frame Sensors\n",
    "def df_sensors(tangaras, start_timestamp, end_timestamp):\n",
    "    # Data Frame Sensors\n",
    "    df_sensors = []\n",
    "    # SQL Query Data Sensors\n",
    "    query = query_data(tangaras, start_timestamp, end_timestamp, datatype='hum')\n",
    "    # InfluxDB API REST Request\n",
    "    influxdb_request = request_influxdb(query)\n",
    "    #print(influxdb_request)\n",
    "    #print(influxdb_request.text)\n",
    "\n",
    "    # Data Frame InfluxDB Sensors\n",
    "    df_influxdb_sensors = pd.read_csv(StringIO(influxdb_request.text), sep=\",\", low_memory=False)\n",
    "\n",
    "    # Remove/Add Columns\n",
    "    df_influxdb_sensors = df_influxdb_sensors[['time', 'name.1', 'last']]\n",
    "    df_influxdb_sensors.rename(columns={'time': 'DATETIME', 'name.1': 'MAC', 'last': 'HUM'}, inplace=True)\n",
    "\n",
    "    # Truncate Response\n",
    "    for index, row in tangaras.iterrows():\n",
    "        df_sensor = df_influxdb_sensors.loc[df_influxdb_sensors['MAC'] == row['MAC']].reset_index(drop=True)[['DATETIME', 'HUM']] # Warning\n",
    "        if not df_sensor.empty:\n",
    "            df_sensor.rename(columns={'HUM': row['ID']}, inplace=True)\n",
    "            df_sensor.set_index('DATETIME', inplace=True)\n",
    "            df_sensors.append(df_sensor)\n",
    "    \n",
    "    df_sensors = df_sensors[0].join(df_sensors[1:]).reset_index()\n",
    "\n",
    "    # Date Time ISO 8601 Format, TZ='America/Bogota' -05:00\n",
    "    tz = timezone(timedelta(hours=-5))\n",
    "    df_sensors['DATETIME'] = df_sensors['DATETIME'].apply(lambda x: datetime.fromtimestamp(int(x) / 1000, tz=tz).isoformat())\n",
    "    df_sensors['DATETIME'] = pd.to_datetime(df_sensors['DATETIME'])\n",
    "\n",
    "    # Set Index\n",
    "    df_sensors.set_index('DATETIME', inplace=True)\n",
    "    df_sensors = df_sensors.asfreq(freq='30S')\n",
    "\n",
    "    df_sensors[df_sensors.columns.to_list()] = df_sensors[df_sensors.columns.to_list()].astype('float64')\n",
    "    \n",
    "    return df_sensors\n"
   ]
  },
  {
   "cell_type": "code",
   "execution_count": 14,
   "metadata": {},
   "outputs": [
    {
     "data": {
      "text/html": [
       "<div>\n",
       "<style scoped>\n",
       "    .dataframe tbody tr th:only-of-type {\n",
       "        vertical-align: middle;\n",
       "    }\n",
       "\n",
       "    .dataframe tbody tr th {\n",
       "        vertical-align: top;\n",
       "    }\n",
       "\n",
       "    .dataframe thead th {\n",
       "        text-align: right;\n",
       "    }\n",
       "</style>\n",
       "<table border=\"1\" class=\"dataframe\">\n",
       "  <thead>\n",
       "    <tr style=\"text-align: right;\">\n",
       "      <th></th>\n",
       "      <th>TANGARA_260A</th>\n",
       "      <th>TANGARA_1282</th>\n",
       "      <th>TANGARA_2492</th>\n",
       "      <th>TANGARA_48C6</th>\n",
       "      <th>TANGARA_F1AE</th>\n",
       "      <th>TANGARA_06BE</th>\n",
       "    </tr>\n",
       "    <tr>\n",
       "      <th>DATETIME</th>\n",
       "      <th></th>\n",
       "      <th></th>\n",
       "      <th></th>\n",
       "      <th></th>\n",
       "      <th></th>\n",
       "      <th></th>\n",
       "    </tr>\n",
       "  </thead>\n",
       "  <tbody>\n",
       "    <tr>\n",
       "      <th>2023-06-12 00:00:30-05:00</th>\n",
       "      <td>57.53</td>\n",
       "      <td>64.66</td>\n",
       "      <td>55.17</td>\n",
       "      <td>99.9</td>\n",
       "      <td>59.03</td>\n",
       "      <td>66.14</td>\n",
       "    </tr>\n",
       "    <tr>\n",
       "      <th>2023-06-12 00:01:00-05:00</th>\n",
       "      <td>57.49</td>\n",
       "      <td>64.93</td>\n",
       "      <td>55.18</td>\n",
       "      <td>99.9</td>\n",
       "      <td>59.05</td>\n",
       "      <td>66.01</td>\n",
       "    </tr>\n",
       "    <tr>\n",
       "      <th>2023-06-12 00:01:30-05:00</th>\n",
       "      <td>57.51</td>\n",
       "      <td>65.02</td>\n",
       "      <td>55.34</td>\n",
       "      <td>99.9</td>\n",
       "      <td>59.09</td>\n",
       "      <td>65.97</td>\n",
       "    </tr>\n",
       "    <tr>\n",
       "      <th>2023-06-12 00:02:00-05:00</th>\n",
       "      <td>57.59</td>\n",
       "      <td>65.09</td>\n",
       "      <td>55.42</td>\n",
       "      <td>99.9</td>\n",
       "      <td>59.07</td>\n",
       "      <td>65.91</td>\n",
       "    </tr>\n",
       "    <tr>\n",
       "      <th>2023-06-12 00:02:30-05:00</th>\n",
       "      <td>57.61</td>\n",
       "      <td>65.19</td>\n",
       "      <td>55.68</td>\n",
       "      <td>99.9</td>\n",
       "      <td>59.04</td>\n",
       "      <td>65.94</td>\n",
       "    </tr>\n",
       "  </tbody>\n",
       "</table>\n",
       "</div>"
      ],
      "text/plain": [
       "                           TANGARA_260A  TANGARA_1282  TANGARA_2492  \\\n",
       "DATETIME                                                              \n",
       "2023-06-12 00:00:30-05:00         57.53         64.66         55.17   \n",
       "2023-06-12 00:01:00-05:00         57.49         64.93         55.18   \n",
       "2023-06-12 00:01:30-05:00         57.51         65.02         55.34   \n",
       "2023-06-12 00:02:00-05:00         57.59         65.09         55.42   \n",
       "2023-06-12 00:02:30-05:00         57.61         65.19         55.68   \n",
       "\n",
       "                           TANGARA_48C6  TANGARA_F1AE  TANGARA_06BE  \n",
       "DATETIME                                                             \n",
       "2023-06-12 00:00:30-05:00          99.9         59.03         66.14  \n",
       "2023-06-12 00:01:00-05:00          99.9         59.05         66.01  \n",
       "2023-06-12 00:01:30-05:00          99.9         59.09         65.97  \n",
       "2023-06-12 00:02:00-05:00          99.9         59.07         65.91  \n",
       "2023-06-12 00:02:30-05:00          99.9         59.04         65.94  "
      ]
     },
     "execution_count": 14,
     "metadata": {},
     "output_type": "execute_result"
    }
   ],
   "source": [
    "# Data Frame Sensors\n",
    "hum_raw = df_sensors(tangaras, start_timestamp, end_timestamp)\n",
    "hum_raw.head()"
   ]
  },
  {
   "attachments": {},
   "cell_type": "markdown",
   "metadata": {},
   "source": [
    "# Descriptive Statistics"
   ]
  },
  {
   "cell_type": "code",
   "execution_count": 15,
   "metadata": {},
   "outputs": [
    {
     "data": {
      "text/html": [
       "<div>\n",
       "<style scoped>\n",
       "    .dataframe tbody tr th:only-of-type {\n",
       "        vertical-align: middle;\n",
       "    }\n",
       "\n",
       "    .dataframe tbody tr th {\n",
       "        vertical-align: top;\n",
       "    }\n",
       "\n",
       "    .dataframe thead th {\n",
       "        text-align: right;\n",
       "    }\n",
       "</style>\n",
       "<table border=\"1\" class=\"dataframe\">\n",
       "  <thead>\n",
       "    <tr style=\"text-align: right;\">\n",
       "      <th></th>\n",
       "      <th>TANGARA_260A</th>\n",
       "      <th>TANGARA_1282</th>\n",
       "      <th>TANGARA_2492</th>\n",
       "      <th>TANGARA_48C6</th>\n",
       "      <th>TANGARA_F1AE</th>\n",
       "      <th>TANGARA_06BE</th>\n",
       "    </tr>\n",
       "  </thead>\n",
       "  <tbody>\n",
       "    <tr>\n",
       "      <th>count</th>\n",
       "      <td>18995.000000</td>\n",
       "      <td>18101.000000</td>\n",
       "      <td>18992.000000</td>\n",
       "      <td>18095.000000</td>\n",
       "      <td>17271.000000</td>\n",
       "      <td>18655.000000</td>\n",
       "    </tr>\n",
       "    <tr>\n",
       "      <th>mean</th>\n",
       "      <td>51.232401</td>\n",
       "      <td>53.201862</td>\n",
       "      <td>50.137662</td>\n",
       "      <td>96.483653</td>\n",
       "      <td>51.245485</td>\n",
       "      <td>58.048789</td>\n",
       "    </tr>\n",
       "    <tr>\n",
       "      <th>std</th>\n",
       "      <td>8.834032</td>\n",
       "      <td>9.632215</td>\n",
       "      <td>6.037965</td>\n",
       "      <td>5.324764</td>\n",
       "      <td>9.297152</td>\n",
       "      <td>9.174962</td>\n",
       "    </tr>\n",
       "    <tr>\n",
       "      <th>min</th>\n",
       "      <td>29.610000</td>\n",
       "      <td>28.180000</td>\n",
       "      <td>36.940000</td>\n",
       "      <td>71.700000</td>\n",
       "      <td>29.360000</td>\n",
       "      <td>39.320000</td>\n",
       "    </tr>\n",
       "    <tr>\n",
       "      <th>25%</th>\n",
       "      <td>45.350000</td>\n",
       "      <td>46.850000</td>\n",
       "      <td>45.440000</td>\n",
       "      <td>94.800000</td>\n",
       "      <td>43.880000</td>\n",
       "      <td>50.960000</td>\n",
       "    </tr>\n",
       "    <tr>\n",
       "      <th>50%</th>\n",
       "      <td>51.000000</td>\n",
       "      <td>53.900000</td>\n",
       "      <td>50.625000</td>\n",
       "      <td>99.900000</td>\n",
       "      <td>51.160000</td>\n",
       "      <td>57.600000</td>\n",
       "    </tr>\n",
       "    <tr>\n",
       "      <th>75%</th>\n",
       "      <td>58.740000</td>\n",
       "      <td>61.070000</td>\n",
       "      <td>55.140000</td>\n",
       "      <td>99.900000</td>\n",
       "      <td>59.380000</td>\n",
       "      <td>65.070000</td>\n",
       "    </tr>\n",
       "    <tr>\n",
       "      <th>max</th>\n",
       "      <td>68.590000</td>\n",
       "      <td>72.520000</td>\n",
       "      <td>62.320000</td>\n",
       "      <td>99.900000</td>\n",
       "      <td>68.330000</td>\n",
       "      <td>82.420000</td>\n",
       "    </tr>\n",
       "  </tbody>\n",
       "</table>\n",
       "</div>"
      ],
      "text/plain": [
       "       TANGARA_260A  TANGARA_1282  TANGARA_2492  TANGARA_48C6  TANGARA_F1AE  \\\n",
       "count  18995.000000  18101.000000  18992.000000  18095.000000  17271.000000   \n",
       "mean      51.232401     53.201862     50.137662     96.483653     51.245485   \n",
       "std        8.834032      9.632215      6.037965      5.324764      9.297152   \n",
       "min       29.610000     28.180000     36.940000     71.700000     29.360000   \n",
       "25%       45.350000     46.850000     45.440000     94.800000     43.880000   \n",
       "50%       51.000000     53.900000     50.625000     99.900000     51.160000   \n",
       "75%       58.740000     61.070000     55.140000     99.900000     59.380000   \n",
       "max       68.590000     72.520000     62.320000     99.900000     68.330000   \n",
       "\n",
       "       TANGARA_06BE  \n",
       "count  18655.000000  \n",
       "mean      58.048789  \n",
       "std        9.174962  \n",
       "min       39.320000  \n",
       "25%       50.960000  \n",
       "50%       57.600000  \n",
       "75%       65.070000  \n",
       "max       82.420000  "
      ]
     },
     "execution_count": 15,
     "metadata": {},
     "output_type": "execute_result"
    }
   ],
   "source": [
    "# Describe Data\n",
    "hum_raw.describe()"
   ]
  },
  {
   "cell_type": "code",
   "execution_count": 16,
   "metadata": {},
   "outputs": [
    {
     "name": "stdout",
     "output_type": "stream",
     "text": [
      "Threshold: 85%\n",
      "Total Sensors: 6\n",
      "To Be Checked: 0\n"
     ]
    },
    {
     "data": {
      "text/plain": [
       "[]"
      ]
     },
     "execution_count": 16,
     "metadata": {},
     "output_type": "execute_result"
    }
   ],
   "source": [
    "# Missing Data Sensors\n",
    "threshold = 85\n",
    "to_be_checked = missing_data(hum_raw, threshold)\n",
    "\n",
    "print(f'Threshold: {threshold}%')\n",
    "print(f'Total Sensors: {len(hum_raw.columns)}')\n",
    "print(f'To Be Checked: {len(to_be_checked)}')\n",
    "to_be_checked"
   ]
  },
  {
   "cell_type": "code",
   "execution_count": 17,
   "metadata": {},
   "outputs": [
    {
     "name": "stdout",
     "output_type": "stream",
     "text": [
      "Threshold: 0.85\n",
      "Total Sensors: 3\n",
      "To Be Checked: 0\n"
     ]
    },
    {
     "data": {
      "text/plain": [
       "[]"
      ]
     },
     "execution_count": 17,
     "metadata": {},
     "output_type": "execute_result"
    }
   ],
   "source": [
    "# Sensors to evaluate by Pearson correlation coefficient\n",
    "sensors_to_evaluate = hum_raw[['TANGARA_1282', 'TANGARA_260A', 'TANGARA_06BE']]\n",
    "\n",
    "# Pearson correlation coefficient\n",
    "threshold = 0.85\n",
    "to_be_checked = correlation(sensors_to_evaluate, 'TANGARA_1282', threshold)\n",
    "\n",
    "# Correlation Sensors\n",
    "print(f'Threshold: {threshold}')\n",
    "print(f'Total Sensors: {len(sensors_to_evaluate.columns)}')\n",
    "print(f'To Be Checked: {len(to_be_checked)}')\n",
    "to_be_checked\n"
   ]
  },
  {
   "cell_type": "code",
   "execution_count": 18,
   "metadata": {},
   "outputs": [],
   "source": [
    "# Save Humidity raw data into CSV file\n",
    "hum_raw.to_csv('../data/hum_raw.csv')"
   ]
  },
  {
   "cell_type": "code",
   "execution_count": null,
   "metadata": {},
   "outputs": [],
   "source": []
  }
 ],
 "metadata": {
  "kernelspec": {
   "display_name": "Python 3",
   "language": "python",
   "name": "python3"
  },
  "language_info": {
   "codemirror_mode": {
    "name": "ipython",
    "version": 3
   },
   "file_extension": ".py",
   "mimetype": "text/x-python",
   "name": "python",
   "nbconvert_exporter": "python",
   "pygments_lexer": "ipython3",
   "version": "3.10.6"
  },
  "orig_nbformat": 4
 },
 "nbformat": 4,
 "nbformat_minor": 2
}
