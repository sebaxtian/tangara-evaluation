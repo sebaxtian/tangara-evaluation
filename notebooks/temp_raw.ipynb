{
 "cells": [
  {
   "cell_type": "code",
   "execution_count": 1,
   "metadata": {},
   "outputs": [
    {
     "name": "stdout",
     "output_type": "stream",
     "text": [
      "importing Jupyter notebook from evaluation.ipynb\n"
     ]
    }
   ],
   "source": [
    "from datetime import datetime, timezone, timedelta\n",
    "import pandas as pd\n",
    "from io import StringIO\n",
    "import import_ipynb\n",
    "from evaluation import to_timestamp, request_influxdb, query_data, histplots, boxplots, lineplots, missing_data, correlation\n"
   ]
  },
  {
   "cell_type": "code",
   "execution_count": 2,
   "metadata": {},
   "outputs": [
    {
     "data": {
      "text/plain": [
       "(6, 6)"
      ]
     },
     "execution_count": 2,
     "metadata": {},
     "output_type": "execute_result"
    }
   ],
   "source": [
    "# Load Tangaras\n",
    "tangaras = pd.read_csv('../data/tangaras.csv')\n",
    "tangaras.shape"
   ]
  },
  {
   "cell_type": "code",
   "execution_count": 3,
   "metadata": {},
   "outputs": [
    {
     "name": "stdout",
     "output_type": "stream",
     "text": [
      "Since: 1686546000000 Until: 1687150799000\n"
     ]
    }
   ],
   "source": [
    "# Start Date Time ISO 8601 Format, TZ='America/Bogota' -05:00\n",
    "#start_timestamp = to_timestamp('2023-03-17T00:00:00-05:00')\n",
    "#start_timestamp = to_timestamp('2023-04-03T00:00:00-05:00')\n",
    "start_timestamp = to_timestamp('2023-06-12T00:00:00-05:00')\n",
    "\n",
    "# End Date Time ISO 8601 Format, TZ='America/Bogota' -05:00\n",
    "#end_timestamp = to_timestamp('2023-03-31T00:00:00-05:00')\n",
    "#end_timestamp = to_timestamp('2023-04-04T00:00:00-05:00')\n",
    "end_timestamp = to_timestamp('2023-06-18T23:59:59-05:00')\n",
    "\n",
    "print(f'Since: {start_timestamp} Until: {end_timestamp}')\n"
   ]
  },
  {
   "cell_type": "code",
   "execution_count": 4,
   "metadata": {},
   "outputs": [],
   "source": [
    "# Get Data Frame Sensors\n",
    "def df_sensors(tangaras, start_timestamp, end_timestamp):\n",
    "    # Data Frame Sensors\n",
    "    df_sensors = []\n",
    "    # SQL Query Data Sensors\n",
    "    query = query_data(tangaras, start_timestamp, end_timestamp, datatype='tmp')\n",
    "    # InfluxDB API REST Request\n",
    "    influxdb_request = request_influxdb(query)\n",
    "    #print(influxdb_request)\n",
    "    #print(influxdb_request.text)\n",
    "\n",
    "    # Data Frame InfluxDB Sensors\n",
    "    df_influxdb_sensors = pd.read_csv(StringIO(influxdb_request.text), sep=\",\", low_memory=False)\n",
    "\n",
    "    # Remove/Add Columns\n",
    "    df_influxdb_sensors = df_influxdb_sensors[['time', 'name.1', 'last']]\n",
    "    df_influxdb_sensors.rename(columns={'time': 'DATETIME', 'name.1': 'MAC', 'last': 'TEMP'}, inplace=True)\n",
    "\n",
    "    # Truncate Response\n",
    "    for index, row in tangaras.iterrows():\n",
    "        df_sensor = df_influxdb_sensors.loc[df_influxdb_sensors['MAC'] == row['MAC']].reset_index(drop=True)[['DATETIME', 'TEMP']] # Warning\n",
    "        if not df_sensor.empty:\n",
    "            df_sensor.rename(columns={'TEMP': row['ID']}, inplace=True)\n",
    "            df_sensor.set_index('DATETIME', inplace=True)\n",
    "            df_sensors.append(df_sensor)\n",
    "    \n",
    "    df_sensors = df_sensors[0].join(df_sensors[1:]).reset_index()\n",
    "\n",
    "    # Date Time ISO 8601 Format, TZ='America/Bogota' -05:00\n",
    "    tz = timezone(timedelta(hours=-5))\n",
    "    df_sensors['DATETIME'] = df_sensors['DATETIME'].apply(lambda x: datetime.fromtimestamp(int(x) / 1000, tz=tz).isoformat())\n",
    "    df_sensors['DATETIME'] = pd.to_datetime(df_sensors['DATETIME'])\n",
    "\n",
    "    # Set Index\n",
    "    df_sensors.set_index('DATETIME', inplace=True)\n",
    "    df_sensors = df_sensors.asfreq(freq='30S')\n",
    "\n",
    "    df_sensors[df_sensors.columns.to_list()] = df_sensors[df_sensors.columns.to_list()].astype('float64')\n",
    "    \n",
    "    return df_sensors\n"
   ]
  },
  {
   "cell_type": "code",
   "execution_count": 5,
   "metadata": {},
   "outputs": [
    {
     "data": {
      "text/html": [
       "<div>\n",
       "<style scoped>\n",
       "    .dataframe tbody tr th:only-of-type {\n",
       "        vertical-align: middle;\n",
       "    }\n",
       "\n",
       "    .dataframe tbody tr th {\n",
       "        vertical-align: top;\n",
       "    }\n",
       "\n",
       "    .dataframe thead th {\n",
       "        text-align: right;\n",
       "    }\n",
       "</style>\n",
       "<table border=\"1\" class=\"dataframe\">\n",
       "  <thead>\n",
       "    <tr style=\"text-align: right;\">\n",
       "      <th></th>\n",
       "      <th>TANGARA_260A</th>\n",
       "      <th>TANGARA_1282</th>\n",
       "      <th>TANGARA_2492</th>\n",
       "      <th>TANGARA_48C6</th>\n",
       "      <th>TANGARA_F1AE</th>\n",
       "      <th>TANGARA_06BE</th>\n",
       "    </tr>\n",
       "    <tr>\n",
       "      <th>DATETIME</th>\n",
       "      <th></th>\n",
       "      <th></th>\n",
       "      <th></th>\n",
       "      <th></th>\n",
       "      <th></th>\n",
       "      <th></th>\n",
       "    </tr>\n",
       "  </thead>\n",
       "  <tbody>\n",
       "    <tr>\n",
       "      <th>2023-06-12 00:00:30-05:00</th>\n",
       "      <td>29.47</td>\n",
       "      <td>27.50</td>\n",
       "      <td>31.05</td>\n",
       "      <td>27.6</td>\n",
       "      <td>28.87</td>\n",
       "      <td>28.35</td>\n",
       "    </tr>\n",
       "    <tr>\n",
       "      <th>2023-06-12 00:01:00-05:00</th>\n",
       "      <td>29.49</td>\n",
       "      <td>27.47</td>\n",
       "      <td>31.00</td>\n",
       "      <td>27.6</td>\n",
       "      <td>28.90</td>\n",
       "      <td>28.41</td>\n",
       "    </tr>\n",
       "    <tr>\n",
       "      <th>2023-06-12 00:01:30-05:00</th>\n",
       "      <td>29.46</td>\n",
       "      <td>27.41</td>\n",
       "      <td>30.97</td>\n",
       "      <td>27.6</td>\n",
       "      <td>28.90</td>\n",
       "      <td>28.40</td>\n",
       "    </tr>\n",
       "    <tr>\n",
       "      <th>2023-06-12 00:02:00-05:00</th>\n",
       "      <td>29.47</td>\n",
       "      <td>27.44</td>\n",
       "      <td>30.97</td>\n",
       "      <td>27.5</td>\n",
       "      <td>28.87</td>\n",
       "      <td>28.44</td>\n",
       "    </tr>\n",
       "    <tr>\n",
       "      <th>2023-06-12 00:02:30-05:00</th>\n",
       "      <td>29.46</td>\n",
       "      <td>27.40</td>\n",
       "      <td>30.93</td>\n",
       "      <td>27.5</td>\n",
       "      <td>28.90</td>\n",
       "      <td>28.45</td>\n",
       "    </tr>\n",
       "  </tbody>\n",
       "</table>\n",
       "</div>"
      ],
      "text/plain": [
       "                           TANGARA_260A  TANGARA_1282  TANGARA_2492  \\\n",
       "DATETIME                                                              \n",
       "2023-06-12 00:00:30-05:00         29.47         27.50         31.05   \n",
       "2023-06-12 00:01:00-05:00         29.49         27.47         31.00   \n",
       "2023-06-12 00:01:30-05:00         29.46         27.41         30.97   \n",
       "2023-06-12 00:02:00-05:00         29.47         27.44         30.97   \n",
       "2023-06-12 00:02:30-05:00         29.46         27.40         30.93   \n",
       "\n",
       "                           TANGARA_48C6  TANGARA_F1AE  TANGARA_06BE  \n",
       "DATETIME                                                             \n",
       "2023-06-12 00:00:30-05:00          27.6         28.87         28.35  \n",
       "2023-06-12 00:01:00-05:00          27.6         28.90         28.41  \n",
       "2023-06-12 00:01:30-05:00          27.6         28.90         28.40  \n",
       "2023-06-12 00:02:00-05:00          27.5         28.87         28.44  \n",
       "2023-06-12 00:02:30-05:00          27.5         28.90         28.45  "
      ]
     },
     "execution_count": 5,
     "metadata": {},
     "output_type": "execute_result"
    }
   ],
   "source": [
    "# Data Frame Sensors\n",
    "temp_raw = df_sensors(tangaras, start_timestamp, end_timestamp)\n",
    "temp_raw.head()"
   ]
  },
  {
   "attachments": {},
   "cell_type": "markdown",
   "metadata": {},
   "source": [
    "# Descriptive Statistics"
   ]
  },
  {
   "cell_type": "code",
   "execution_count": 6,
   "metadata": {},
   "outputs": [
    {
     "data": {
      "text/html": [
       "<div>\n",
       "<style scoped>\n",
       "    .dataframe tbody tr th:only-of-type {\n",
       "        vertical-align: middle;\n",
       "    }\n",
       "\n",
       "    .dataframe tbody tr th {\n",
       "        vertical-align: top;\n",
       "    }\n",
       "\n",
       "    .dataframe thead th {\n",
       "        text-align: right;\n",
       "    }\n",
       "</style>\n",
       "<table border=\"1\" class=\"dataframe\">\n",
       "  <thead>\n",
       "    <tr style=\"text-align: right;\">\n",
       "      <th></th>\n",
       "      <th>TANGARA_260A</th>\n",
       "      <th>TANGARA_1282</th>\n",
       "      <th>TANGARA_2492</th>\n",
       "      <th>TANGARA_48C6</th>\n",
       "      <th>TANGARA_F1AE</th>\n",
       "      <th>TANGARA_06BE</th>\n",
       "    </tr>\n",
       "  </thead>\n",
       "  <tbody>\n",
       "    <tr>\n",
       "      <th>count</th>\n",
       "      <td>18995.000000</td>\n",
       "      <td>18101.000000</td>\n",
       "      <td>18992.000000</td>\n",
       "      <td>18095.000000</td>\n",
       "      <td>17271.000000</td>\n",
       "      <td>18655.000000</td>\n",
       "    </tr>\n",
       "    <tr>\n",
       "      <th>mean</th>\n",
       "      <td>30.872162</td>\n",
       "      <td>30.612199</td>\n",
       "      <td>32.431582</td>\n",
       "      <td>30.348196</td>\n",
       "      <td>32.029464</td>\n",
       "      <td>30.446971</td>\n",
       "    </tr>\n",
       "    <tr>\n",
       "      <th>std</th>\n",
       "      <td>2.695987</td>\n",
       "      <td>3.372886</td>\n",
       "      <td>2.416032</td>\n",
       "      <td>3.542196</td>\n",
       "      <td>3.597832</td>\n",
       "      <td>2.875892</td>\n",
       "    </tr>\n",
       "    <tr>\n",
       "      <th>min</th>\n",
       "      <td>25.180000</td>\n",
       "      <td>25.290000</td>\n",
       "      <td>27.560000</td>\n",
       "      <td>24.500000</td>\n",
       "      <td>25.580000</td>\n",
       "      <td>24.920000</td>\n",
       "    </tr>\n",
       "    <tr>\n",
       "      <th>25%</th>\n",
       "      <td>28.610000</td>\n",
       "      <td>27.820000</td>\n",
       "      <td>30.590000</td>\n",
       "      <td>27.400000</td>\n",
       "      <td>28.950000</td>\n",
       "      <td>28.110000</td>\n",
       "    </tr>\n",
       "    <tr>\n",
       "      <th>50%</th>\n",
       "      <td>30.550000</td>\n",
       "      <td>29.790000</td>\n",
       "      <td>32.060000</td>\n",
       "      <td>29.400000</td>\n",
       "      <td>31.660000</td>\n",
       "      <td>30.220000</td>\n",
       "    </tr>\n",
       "    <tr>\n",
       "      <th>75%</th>\n",
       "      <td>32.890000</td>\n",
       "      <td>32.720000</td>\n",
       "      <td>34.100000</td>\n",
       "      <td>33.400000</td>\n",
       "      <td>34.660000</td>\n",
       "      <td>32.780000</td>\n",
       "    </tr>\n",
       "    <tr>\n",
       "      <th>max</th>\n",
       "      <td>37.570000</td>\n",
       "      <td>40.580000</td>\n",
       "      <td>39.230000</td>\n",
       "      <td>38.900000</td>\n",
       "      <td>42.070000</td>\n",
       "      <td>37.430000</td>\n",
       "    </tr>\n",
       "  </tbody>\n",
       "</table>\n",
       "</div>"
      ],
      "text/plain": [
       "       TANGARA_260A  TANGARA_1282  TANGARA_2492  TANGARA_48C6  TANGARA_F1AE  \\\n",
       "count  18995.000000  18101.000000  18992.000000  18095.000000  17271.000000   \n",
       "mean      30.872162     30.612199     32.431582     30.348196     32.029464   \n",
       "std        2.695987      3.372886      2.416032      3.542196      3.597832   \n",
       "min       25.180000     25.290000     27.560000     24.500000     25.580000   \n",
       "25%       28.610000     27.820000     30.590000     27.400000     28.950000   \n",
       "50%       30.550000     29.790000     32.060000     29.400000     31.660000   \n",
       "75%       32.890000     32.720000     34.100000     33.400000     34.660000   \n",
       "max       37.570000     40.580000     39.230000     38.900000     42.070000   \n",
       "\n",
       "       TANGARA_06BE  \n",
       "count  18655.000000  \n",
       "mean      30.446971  \n",
       "std        2.875892  \n",
       "min       24.920000  \n",
       "25%       28.110000  \n",
       "50%       30.220000  \n",
       "75%       32.780000  \n",
       "max       37.430000  "
      ]
     },
     "execution_count": 6,
     "metadata": {},
     "output_type": "execute_result"
    }
   ],
   "source": [
    "# Describe Data\n",
    "temp_raw.describe()"
   ]
  },
  {
   "cell_type": "code",
   "execution_count": 7,
   "metadata": {},
   "outputs": [
    {
     "name": "stdout",
     "output_type": "stream",
     "text": [
      "Threshold: 85%\n",
      "Total Sensors: 6\n",
      "To Be Checked: 0\n"
     ]
    },
    {
     "data": {
      "text/plain": [
       "[]"
      ]
     },
     "execution_count": 7,
     "metadata": {},
     "output_type": "execute_result"
    }
   ],
   "source": [
    "# Missing Data Sensors\n",
    "threshold = 85\n",
    "to_be_checked = missing_data(temp_raw, threshold)\n",
    "\n",
    "print(f'Threshold: {threshold}%')\n",
    "print(f'Total Sensors: {len(temp_raw.columns)}')\n",
    "print(f'To Be Checked: {len(to_be_checked)}')\n",
    "to_be_checked"
   ]
  },
  {
   "cell_type": "code",
   "execution_count": 8,
   "metadata": {},
   "outputs": [
    {
     "name": "stdout",
     "output_type": "stream",
     "text": [
      "Threshold: 0.85\n",
      "Total Sensors: 3\n",
      "To Be Checked: 0\n"
     ]
    },
    {
     "data": {
      "text/plain": [
       "[]"
      ]
     },
     "execution_count": 8,
     "metadata": {},
     "output_type": "execute_result"
    }
   ],
   "source": [
    "# Sensors to evaluate by Pearson correlation coefficient\n",
    "sensors_to_evaluate = temp_raw[['TANGARA_1282', 'TANGARA_260A', 'TANGARA_06BE']]\n",
    "\n",
    "# Pearson correlation coefficient\n",
    "threshold = 0.85\n",
    "to_be_checked = correlation(sensors_to_evaluate, 'TANGARA_1282', threshold)\n",
    "\n",
    "# Correlation Sensors\n",
    "print(f'Threshold: {threshold}')\n",
    "print(f'Total Sensors: {len(sensors_to_evaluate.columns)}')\n",
    "print(f'To Be Checked: {len(to_be_checked)}')\n",
    "to_be_checked\n"
   ]
  },
  {
   "cell_type": "code",
   "execution_count": 9,
   "metadata": {},
   "outputs": [],
   "source": [
    "# Save Temperature raw data into CSV file\n",
    "temp_raw.to_csv('../data/temp_raw.csv')"
   ]
  },
  {
   "cell_type": "code",
   "execution_count": null,
   "metadata": {},
   "outputs": [],
   "source": []
  }
 ],
 "metadata": {
  "kernelspec": {
   "display_name": "Python 3",
   "language": "python",
   "name": "python3"
  },
  "language_info": {
   "codemirror_mode": {
    "name": "ipython",
    "version": 3
   },
   "file_extension": ".py",
   "mimetype": "text/x-python",
   "name": "python",
   "nbconvert_exporter": "python",
   "pygments_lexer": "ipython3",
   "version": "3.10.6"
  },
  "orig_nbformat": 4
 },
 "nbformat": 4,
 "nbformat_minor": 2
}
