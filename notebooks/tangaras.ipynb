{
 "cells": [
  {
   "cell_type": "code",
   "execution_count": 7,
   "metadata": {},
   "outputs": [],
   "source": [
    "from datetime import datetime, timezone, timedelta\n",
    "import pandas as pd\n",
    "from io import StringIO\n",
    "import geohash2\n",
    "import import_ipynb\n",
    "from evaluation import to_timestamp, request_influxdb, query_tangaras\n"
   ]
  },
  {
   "attachments": {},
   "cell_type": "markdown",
   "metadata": {},
   "source": [
    "# Tangara Stations"
   ]
  },
  {
   "cell_type": "code",
   "execution_count": 8,
   "metadata": {},
   "outputs": [
    {
     "name": "stdout",
     "output_type": "stream",
     "text": [
      "Since: 1680498000000 Until: 1680584400000\n"
     ]
    }
   ],
   "source": [
    "# Start Date Time ISO 8601 Format, TZ='America/Bogota' -05:00\n",
    "#start_timestamp = to_timestamp('2023-03-17T00:00:00-05:00')\n",
    "start_timestamp = to_timestamp('2023-04-03T00:00:00-05:00')\n",
    "# End Date Time ISO 8601 Format, TZ='America/Bogota' -05:00\n",
    "#end_timestamp = to_timestamp('2023-03-31T00:00:00-05:00')\n",
    "end_timestamp = to_timestamp('2023-04-04T00:00:00-05:00')\n",
    "\n",
    "print(f'Since: {start_timestamp} Until: {end_timestamp}')\n"
   ]
  },
  {
   "cell_type": "code",
   "execution_count": 9,
   "metadata": {},
   "outputs": [
    {
     "name": "stdout",
     "output_type": "stream",
     "text": [
      "SELECT DISTINCT(geo) AS \"geohash\" FROM \"fixed_stations_01\" WHERE (\"geo3\" = 'd29') AND time >= 1680498000000ms AND time <= 1680584400000ms GROUP BY \"name\";\n"
     ]
    }
   ],
   "source": [
    "# Query Tangaras\n",
    "query = query_tangaras(start_timestamp, end_timestamp)\n",
    "print(query)"
   ]
  },
  {
   "cell_type": "code",
   "execution_count": 10,
   "metadata": {},
   "outputs": [],
   "source": [
    "# Get Data Frame Tangaras\n",
    "def df_tangaras(start_timestamp, end_timestamp):\n",
    "    # Query Tangaras\n",
    "    query = query_tangaras(start_timestamp, end_timestamp)\n",
    "    # InfluxDB API REST Request\n",
    "    influxdb_request = request_influxdb(query)\n",
    "    #print(influxdb_request)\n",
    "    #print(influxdb_request.text)\n",
    "\n",
    "    # Data Frame Tangaras\n",
    "    df_tangaras = pd.read_csv(StringIO(influxdb_request.text), sep=\",\")\n",
    "\n",
    "    # Remove/Add Columns\n",
    "    df_tangaras = df_tangaras[['tags', 'geohash']]\n",
    "    df_tangaras['MAC'] = df_tangaras['tags'].apply(lambda x: x.split('=')[1])\n",
    "    df_tangaras['GEOLOCATION'] = df_tangaras['geohash'].apply(lambda x: \" \".join(str(value) for value in list(geohash2.decode_exactly(x)[0:2])))\n",
    "    df_tangaras['LATITUDE'] = df_tangaras['GEOLOCATION'].apply(lambda x: x.split(' ')[0])\n",
    "    df_tangaras['LONGITUDE'] = df_tangaras['GEOLOCATION'].apply(lambda x: x.split(' ')[1])\n",
    "    df_tangaras['tags'] = df_tangaras['tags'].apply(lambda x: f\"TANGARA_{x[-4:]}\")\n",
    "    df_tangaras.rename(columns={'tags': 'ID', 'geohash': 'GEOHASH'}, inplace=True)\n",
    "    \n",
    "    # Date time when query is executed\n",
    "    #tz = timezone(timedelta(hours=-5))\n",
    "    #df_tangaras['DATETIME'] = datetime.now(tz=tz)\n",
    "\n",
    "    # Set Index\n",
    "    df_tangaras.set_index('ID', inplace=True)\n",
    "    \n",
    "    return df_tangaras\n"
   ]
  },
  {
   "cell_type": "code",
   "execution_count": 11,
   "metadata": {},
   "outputs": [
    {
     "data": {
      "text/html": [
       "<div>\n",
       "<style scoped>\n",
       "    .dataframe tbody tr th:only-of-type {\n",
       "        vertical-align: middle;\n",
       "    }\n",
       "\n",
       "    .dataframe tbody tr th {\n",
       "        vertical-align: top;\n",
       "    }\n",
       "\n",
       "    .dataframe thead th {\n",
       "        text-align: right;\n",
       "    }\n",
       "</style>\n",
       "<table border=\"1\" class=\"dataframe\">\n",
       "  <thead>\n",
       "    <tr style=\"text-align: right;\">\n",
       "      <th></th>\n",
       "      <th>GEOHASH</th>\n",
       "      <th>MAC</th>\n",
       "      <th>GEOLOCATION</th>\n",
       "      <th>LATITUDE</th>\n",
       "      <th>LONGITUDE</th>\n",
       "    </tr>\n",
       "    <tr>\n",
       "      <th>ID</th>\n",
       "      <th></th>\n",
       "      <th></th>\n",
       "      <th></th>\n",
       "      <th></th>\n",
       "      <th></th>\n",
       "    </tr>\n",
       "  </thead>\n",
       "  <tbody>\n",
       "    <tr>\n",
       "      <th>TANGARA_DD66</th>\n",
       "      <td>d29dbmw</td>\n",
       "      <td>D29ESP32DE0DD66</td>\n",
       "      <td>3.3267974853515625 -76.62071228027344</td>\n",
       "      <td>3.3267974853515625</td>\n",
       "      <td>-76.62071228027344</td>\n",
       "    </tr>\n",
       "    <tr>\n",
       "      <th>TANGARA_E752</th>\n",
       "      <td>d29dbmw</td>\n",
       "      <td>D29ESP32DE0E752</td>\n",
       "      <td>3.3267974853515625 -76.62071228027344</td>\n",
       "      <td>3.3267974853515625</td>\n",
       "      <td>-76.62071228027344</td>\n",
       "    </tr>\n",
       "    <tr>\n",
       "      <th>TANGARA_260A</th>\n",
       "      <td>d29dbmw</td>\n",
       "      <td>D29ESP32DE1260A</td>\n",
       "      <td>3.3267974853515625 -76.62071228027344</td>\n",
       "      <td>3.3267974853515625</td>\n",
       "      <td>-76.62071228027344</td>\n",
       "    </tr>\n",
       "    <tr>\n",
       "      <th>TANGARA_4B1A</th>\n",
       "      <td>d29dbmw</td>\n",
       "      <td>D29ESP32DE94B1A</td>\n",
       "      <td>3.3267974853515625 -76.62071228027344</td>\n",
       "      <td>3.3267974853515625</td>\n",
       "      <td>-76.62071228027344</td>\n",
       "    </tr>\n",
       "    <tr>\n",
       "      <th>TANGARA_65F2</th>\n",
       "      <td>d29dbmw</td>\n",
       "      <td>D29ESP32DE965F2</td>\n",
       "      <td>3.3267974853515625 -76.62071228027344</td>\n",
       "      <td>3.3267974853515625</td>\n",
       "      <td>-76.62071228027344</td>\n",
       "    </tr>\n",
       "  </tbody>\n",
       "</table>\n",
       "</div>"
      ],
      "text/plain": [
       "              GEOHASH              MAC                            GEOLOCATION  \\\n",
       "ID                                                                              \n",
       "TANGARA_DD66  d29dbmw  D29ESP32DE0DD66  3.3267974853515625 -76.62071228027344   \n",
       "TANGARA_E752  d29dbmw  D29ESP32DE0E752  3.3267974853515625 -76.62071228027344   \n",
       "TANGARA_260A  d29dbmw  D29ESP32DE1260A  3.3267974853515625 -76.62071228027344   \n",
       "TANGARA_4B1A  d29dbmw  D29ESP32DE94B1A  3.3267974853515625 -76.62071228027344   \n",
       "TANGARA_65F2  d29dbmw  D29ESP32DE965F2  3.3267974853515625 -76.62071228027344   \n",
       "\n",
       "                        LATITUDE           LONGITUDE  \n",
       "ID                                                    \n",
       "TANGARA_DD66  3.3267974853515625  -76.62071228027344  \n",
       "TANGARA_E752  3.3267974853515625  -76.62071228027344  \n",
       "TANGARA_260A  3.3267974853515625  -76.62071228027344  \n",
       "TANGARA_4B1A  3.3267974853515625  -76.62071228027344  \n",
       "TANGARA_65F2  3.3267974853515625  -76.62071228027344  "
      ]
     },
     "execution_count": 11,
     "metadata": {},
     "output_type": "execute_result"
    }
   ],
   "source": [
    "# Data Frame Tangaras\n",
    "tangaras = df_tangaras(start_timestamp, end_timestamp)\n",
    "tangaras.drop_duplicates(subset=['MAC'], inplace=True)\n",
    "tangaras.head()"
   ]
  },
  {
   "cell_type": "code",
   "execution_count": 12,
   "metadata": {},
   "outputs": [],
   "source": [
    "# Save Tangaras into CSV file\n",
    "tangaras.to_csv('../data/tangaras.csv')"
   ]
  },
  {
   "cell_type": "code",
   "execution_count": null,
   "metadata": {},
   "outputs": [],
   "source": []
  }
 ],
 "metadata": {
  "kernelspec": {
   "display_name": "Python 3",
   "language": "python",
   "name": "python3"
  },
  "language_info": {
   "codemirror_mode": {
    "name": "ipython",
    "version": 3
   },
   "file_extension": ".py",
   "mimetype": "text/x-python",
   "name": "python",
   "nbconvert_exporter": "python",
   "pygments_lexer": "ipython3",
   "version": "3.11.2"
  },
  "orig_nbformat": 4
 },
 "nbformat": 4,
 "nbformat_minor": 2
}
